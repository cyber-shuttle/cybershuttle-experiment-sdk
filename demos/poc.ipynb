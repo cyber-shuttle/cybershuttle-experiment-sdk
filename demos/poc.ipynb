{
 "cells": [
  {
   "cell_type": "markdown",
   "metadata": {},
   "source": [
    "# Cybershuttle Molecular Dynamics SDK\n",
    "\n",
    "This SDK allows users to define, plan, and execute molecular dynamics experiments with ease. In this notebook, we demonstrate how to authenticate, set up a NAMD experiment, add replicas, create an execution plan, and monitor the execution. The experiment object `exp` is an instance of `cybershuttle.base.Experiment`."
   ]
  },
  {
   "cell_type": "code",
   "execution_count": 1,
   "metadata": {},
   "outputs": [],
   "source": [
    "import cybershuttle as cs\n",
    "from cybershuttle import md"
   ]
  },
  {
   "cell_type": "markdown",
   "metadata": {},
   "source": [
    "## Authenticate for Remote Execution\n",
    "\n",
    "To authenticate for remote execution, use the `cs.auth.login()` method. This method will prompt you to enter your credentials and authenticate your session."
   ]
  },
  {
   "cell_type": "code",
   "execution_count": 2,
   "metadata": {},
   "outputs": [
    {
     "name": "stdout",
     "output_type": "stream",
     "text": [
      "User code: UAPQ-RRVR\n",
      "Please authenticate by visiting: https://auth.cybershuttle.org/realms/10000000/device?user_code=UAPQ-RRVR\n",
      "Waiting for authorization...\n",
      "Authorization successful!\n"
     ]
    }
   ],
   "source": [
    "cs.auth.login()"
   ]
  },
  {
   "cell_type": "markdown",
   "metadata": {},
   "source": [
    "## Define a NAMD Experiment\n",
    "\n",
    "To define a NAMD experiment, we initialize an instance of the `cybershuttle.base.Experiment` class with the required parameters such as the name of the experiment, and the input PDB and PSF files. The experiment object `exp` is created as shown below:"
   ]
  },
  {
   "cell_type": "code",
   "execution_count": 3,
   "metadata": {},
   "outputs": [],
   "source": [
    "exp = md.NAMD.initialize(\n",
    "    name=\"yasith_namd_experiment\",\n",
    "    pdb=\"input.pdb\",\n",
    "    psf=\"input.psf\",\n",
    ")"
   ]
  },
  {
   "cell_type": "markdown",
   "metadata": {},
   "source": [
    "## Add Replicas for NAMD Experiment\n",
    "\n",
    "To add replicas to the NAMD experiment, we use the `add_replica()` method of the `exp` object. This method adds a replica to the experiment. In this example, we add 4 replicas as shown below:"
   ]
  },
  {
   "cell_type": "code",
   "execution_count": 4,
   "metadata": {},
   "outputs": [],
   "source": [
    "for _ in range(4):\n",
    "  exp.add_replica()"
   ]
  },
  {
   "cell_type": "markdown",
   "metadata": {},
   "source": [
    "## Create Execution Plan\n",
    "\n",
    "To create an execution plan for the experiment, use the `plan()` method of the `exp` object. This method will generate a plan for the experiment, which can then be described using the `describe()` method. The code to create and describe the plan is shown below:"
   ]
  },
  {
   "cell_type": "code",
   "execution_count": 5,
   "metadata": {},
   "outputs": [
    {
     "name": "stdout",
     "output_type": "stream",
     "text": [
      "Task(app_id=namd, inputs={'pdb': 'input.pdb', 'psf': 'input.psf'}, runtime=Local(args={}))\n",
      "Task(app_id=namd, inputs={'pdb': 'input.pdb', 'psf': 'input.psf'}, runtime=Local(args={}))\n",
      "Task(app_id=namd, inputs={'pdb': 'input.pdb', 'psf': 'input.psf'}, runtime=Local(args={}))\n",
      "Task(app_id=namd, inputs={'pdb': 'input.pdb', 'psf': 'input.psf'}, runtime=Local(args={}))\n"
     ]
    }
   ],
   "source": [
    "plan = exp.plan()  # this will create a plan for the experiment\n",
    "plan.describe()  # this will describe the plan"
   ]
  },
  {
   "cell_type": "code",
   "execution_count": 6,
   "metadata": {},
   "outputs": [
    {
     "name": "stdout",
     "output_type": "stream",
     "text": [
      "Task(app_id=namd, inputs={'pdb': 'input.pdb', 'psf': 'input.psf'}, runtime=Local(args={}))\n",
      "Task(app_id=namd, inputs={'pdb': 'input.pdb', 'psf': 'input.psf'}, runtime=Local(args={}))\n",
      "Task(app_id=namd, inputs={'pdb': 'input.pdb', 'psf': 'input.psf'}, runtime=Local(args={}))\n",
      "Task(app_id=namd, inputs={'pdb': 'input.pdb', 'psf': 'input.psf'}, runtime=Local(args={}))\n"
     ]
    }
   ],
   "source": [
    "plan.save(\"plan.json\")\n",
    "cs.plan.load(\"plan.json\").describe()  # this will load the plan and describe it"
   ]
  },
  {
   "cell_type": "markdown",
   "metadata": {},
   "source": [
    "## Execute the Plan"
   ]
  },
  {
   "cell_type": "code",
   "execution_count": 7,
   "metadata": {},
   "outputs": [
    {
     "name": "stdout",
     "output_type": "stream",
     "text": [
      "Preparing execution plan...\n",
      "Task(app_id=namd, inputs={'pdb': 'input.pdb', 'psf': 'input.psf'}, runtime=Local(args={}))\n",
      "Task(app_id=namd, inputs={'pdb': 'input.pdb', 'psf': 'input.psf'}, runtime=Local(args={}))\n",
      "Task(app_id=namd, inputs={'pdb': 'input.pdb', 'psf': 'input.psf'}, runtime=Local(args={}))\n",
      "Task(app_id=namd, inputs={'pdb': 'input.pdb', 'psf': 'input.psf'}, runtime=Local(args={}))\n",
      "Confirming execution plan...\n",
      "Starting tasks...\n",
      "Copying data to compute resource:  {'pdb': 'input.pdb', 'psf': 'input.psf'}\n",
      "Executing app_id=namd on Local: {}\n",
      "Assigned exec_id=7633d319-52a1-40a8-b10e-f197f1382759 to task\n",
      "Copying data to compute resource:  {'pdb': 'input.pdb', 'psf': 'input.psf'}\n",
      "Executing app_id=namd on Local: {}\n",
      "Assigned exec_id=65f337ed-143e-45ec-bc10-61baf809682a to task\n",
      "Copying data to compute resource:  {'pdb': 'input.pdb', 'psf': 'input.psf'}\n",
      "Executing app_id=namd on Local: {}\n",
      "Assigned exec_id=7728baef-02d2-4b36-ae0d-257f0854ac46 to task\n",
      "Copying data to compute resource:  {'pdb': 'input.pdb', 'psf': 'input.psf'}\n",
      "Executing app_id=namd on Local: {}\n",
      "Assigned exec_id=dd79d7a8-0c92-4eb5-a62c-8122ecd1389c to task\n"
     ]
    }
   ],
   "source": [
    "plan.execute()  # this will execute the plan (will ask for user confirmation)"
   ]
  },
  {
   "cell_type": "markdown",
   "metadata": {},
   "source": [
    "## Option A - Wait for Completion"
   ]
  },
  {
   "cell_type": "code",
   "execution_count": 8,
   "metadata": {},
   "outputs": [
    {
     "name": "stdout",
     "output_type": "stream",
     "text": [
      "Waiting for completion\n"
     ]
    }
   ],
   "source": [
    "plan.wait_for_completion(check_every_n_mins=10)  # this will block execution until the plan is completed - don't poll"
   ]
  },
  {
   "cell_type": "markdown",
   "metadata": {},
   "source": [
    "## Option B - Terminate Execution"
   ]
  },
  {
   "cell_type": "code",
   "execution_count": 9,
   "metadata": {},
   "outputs": [
    {
     "name": "stdout",
     "output_type": "stream",
     "text": [
      "Terminating plan\n"
     ]
    }
   ],
   "source": [
    "plan.terminate()"
   ]
  },
  {
   "cell_type": "markdown",
   "metadata": {},
   "source": [
    "## Option C - Monitor Files During Execution"
   ]
  },
  {
   "cell_type": "markdown",
   "metadata": {},
   "source": [
    "Displaying the status and files generated by each replica (task)"
   ]
  },
  {
   "cell_type": "code",
   "execution_count": 10,
   "metadata": {},
   "outputs": [
    {
     "name": "stdout",
     "output_type": "stream",
     "text": [
      "COMPLETED []\n",
      "COMPLETED []\n",
      "COMPLETED []\n",
      "COMPLETED []\n"
     ]
    }
   ],
   "source": [
    "for task in plan.tasks:\n",
    "    status = task.status()\n",
    "    files = task.files()\n",
    "    print(status, files)"
   ]
  },
  {
   "cell_type": "markdown",
   "metadata": {},
   "source": [
    "Displaying the intermediate results generated by each replica (task)"
   ]
  },
  {
   "cell_type": "code",
   "execution_count": 11,
   "metadata": {},
   "outputs": [
    {
     "ename": "TypeError",
     "evalue": "visualize() got an unexpected keyword argument 'pdb'",
     "output_type": "error",
     "traceback": [
      "\u001b[0;31m---------------------------------------------------------------------------\u001b[0m",
      "\u001b[0;31mTypeError\u001b[0m                                 Traceback (most recent call last)",
      "Cell \u001b[0;32mIn[11], line 6\u001b[0m\n\u001b[1;32m      2\u001b[0m \u001b[38;5;28;01mimport\u001b[39;00m \u001b[38;5;21;01mpandas\u001b[39;00m \u001b[38;5;28;01mas\u001b[39;00m \u001b[38;5;21;01mpd\u001b[39;00m\n\u001b[1;32m      4\u001b[0m \u001b[38;5;28;01mfor\u001b[39;00m index, task \u001b[38;5;129;01min\u001b[39;00m \u001b[38;5;28menumerate\u001b[39m(plan\u001b[38;5;241m.\u001b[39mtasks):\n\u001b[0;32m----> 6\u001b[0m \u001b[43m    \u001b[49m\u001b[38;5;129;43m@cs\u001b[39;49m\u001b[38;5;241;43m.\u001b[39;49m\u001b[43mtask_context\u001b[49m\u001b[43m(\u001b[49m\u001b[43mtask\u001b[49m\u001b[43m)\u001b[49m\n\u001b[1;32m      7\u001b[0m \u001b[43m    \u001b[49m\u001b[38;5;28;43;01mdef\u001b[39;49;00m\u001b[43m \u001b[49m\u001b[38;5;21;43mvisualize\u001b[39;49m\u001b[43m(\u001b[49m\u001b[43m)\u001b[49m\u001b[43m:\u001b[49m\n\u001b[1;32m      8\u001b[0m \u001b[43m        \u001b[49m\u001b[43mdata\u001b[49m\u001b[43m \u001b[49m\u001b[38;5;241;43m=\u001b[39;49m\u001b[43m \u001b[49m\u001b[43mpd\u001b[49m\u001b[38;5;241;43m.\u001b[39;49m\u001b[43mread_csv\u001b[49m\u001b[43m(\u001b[49m\u001b[38;5;124;43m\"\u001b[39;49m\u001b[38;5;124;43mdata.csv\u001b[39;49m\u001b[38;5;124;43m\"\u001b[39;49m\u001b[43m)\u001b[49m\n\u001b[1;32m      9\u001b[0m \u001b[43m        \u001b[49m\u001b[43mplt\u001b[49m\u001b[38;5;241;43m.\u001b[39;49m\u001b[43mfigure\u001b[49m\u001b[43m(\u001b[49m\u001b[43mfigsize\u001b[49m\u001b[38;5;241;43m=\u001b[39;49m\u001b[43m(\u001b[49m\u001b[38;5;241;43m8\u001b[39;49m\u001b[43m,\u001b[49m\u001b[43m \u001b[49m\u001b[38;5;241;43m6\u001b[39;49m\u001b[43m)\u001b[49m\u001b[43m)\u001b[49m\n",
      "File \u001b[0;32m~/projects/artisan/cybershuttle-experiment-sdk/src/cybershuttle/__init__.py:10\u001b[0m, in \u001b[0;36mtask_context.<locals>.inner\u001b[0;34m(func)\u001b[0m\n\u001b[1;32m      7\u001b[0m \u001b[38;5;28;01mdef\u001b[39;00m \u001b[38;5;21minner\u001b[39m(func):\n\u001b[1;32m      8\u001b[0m     \u001b[38;5;66;03m# take the function into the task's location\u001b[39;00m\n\u001b[1;32m      9\u001b[0m     \u001b[38;5;66;03m# and execute it there. then fetch the result\u001b[39;00m\n\u001b[0;32m---> 10\u001b[0m     result \u001b[38;5;241m=\u001b[39m \u001b[43mfunc\u001b[49m\u001b[43m(\u001b[49m\u001b[38;5;241;43m*\u001b[39;49m\u001b[38;5;241;43m*\u001b[39;49m\u001b[43mtask\u001b[49m\u001b[38;5;241;43m.\u001b[39;49m\u001b[43minputs\u001b[49m\u001b[43m)\u001b[49m\n\u001b[1;32m     11\u001b[0m     \u001b[38;5;66;03m# and return it to the caller.\u001b[39;00m\n\u001b[1;32m     12\u001b[0m     \u001b[38;5;28;01mreturn\u001b[39;00m result\n",
      "\u001b[0;31mTypeError\u001b[0m: visualize() got an unexpected keyword argument 'pdb'"
     ]
    }
   ],
   "source": [
    "from matplotlib import pyplot as plt\n",
    "import pandas as pd\n",
    "\n",
    "for index, task in enumerate(plan.tasks):\n",
    "\n",
    "    @cs.task_context(task)\n",
    "    def visualize():\n",
    "        data = pd.read_csv(\"data.csv\")\n",
    "        plt.figure(figsize=(8, 6))\n",
    "        plt.plot(data[\"x\"], data[\"y\"], marker=\"o\", linestyle=\"-\", linewidth=2, markersize=6)\n",
    "        plt.title(f\"Plot for Replica {index} of {len(plan.tasks)}\")\n",
    "\n",
    "    visualize()"
   ]
  }
 ],
 "metadata": {
  "kernelspec": {
   "display_name": "Python 3",
   "language": "python",
   "name": "python3"
  },
  "language_info": {
   "codemirror_mode": {
    "name": "ipython",
    "version": 3
   },
   "file_extension": ".py",
   "mimetype": "text/x-python",
   "name": "python",
   "nbconvert_exporter": "python",
   "pygments_lexer": "ipython3",
   "version": "3.12.7"
  }
 },
 "nbformat": 4,
 "nbformat_minor": 2
}
