{
 "cells": [
  {
   "cell_type": "markdown",
   "metadata": {},
   "source": [
    "# Cybershuttle Molecular Dynamics SDK\n",
    "\n",
    "This SDK allows users to define, plan, and execute molecular dynamics experiments with ease. In this notebook, we demonstrate how to authenticate, set up a NAMD experiment, add replicas, create an execution plan, and monitor the execution. The experiment object `exp` is an instance of `cybershuttle.base.Experiment`."
   ]
  },
  {
   "cell_type": "code",
   "execution_count": 7,
   "metadata": {},
   "outputs": [],
   "source": [
    "import cybershuttle as cs\n",
    "from cybershuttle import md"
   ]
  },
  {
   "cell_type": "markdown",
   "metadata": {},
   "source": [
    "## Authenticate for Remote Execution\n",
    "\n",
    "To authenticate for remote execution, use the `cs.auth.login()` method. This method will prompt you to enter your credentials and authenticate your session."
   ]
  },
  {
   "cell_type": "code",
   "execution_count": null,
   "metadata": {},
   "outputs": [],
   "source": [
    "cs.auth.login()"
   ]
  },
  {
   "cell_type": "markdown",
   "metadata": {},
   "source": [
    "## Define a NAMD Experiment\n",
    "\n",
    "To define a NAMD experiment, we initialize an instance of the `cybershuttle.base.Experiment` class with the required parameters such as the name of the experiment, and the input PDB and PSF files. The experiment object `exp` is created as shown below:"
   ]
  },
  {
   "cell_type": "code",
   "execution_count": 8,
   "metadata": {},
   "outputs": [],
   "source": [
    "exp = md.NAMD.initialize(\n",
    "    name=\"yasith_namd_experiment\",\n",
    "    pdb=\"input.pdb\",\n",
    "    psf=\"input.psf\",\n",
    ")"
   ]
  },
  {
   "cell_type": "markdown",
   "metadata": {},
   "source": [
    "## Add Replicas for NAMD Experiment\n",
    "\n",
    "To add replicas to the NAMD experiment, we use the `add_replica()` method of the `exp` object. This method adds a replica to the experiment. In this example, we add 4 replicas as shown below:"
   ]
  },
  {
   "cell_type": "code",
   "execution_count": 9,
   "metadata": {},
   "outputs": [],
   "source": [
    "for _ in range(4):\n",
    "  exp.add_replica()"
   ]
  },
  {
   "cell_type": "markdown",
   "metadata": {},
   "source": [
    "## Create Execution Plan\n",
    "\n",
    "To create an execution plan for the experiment, use the `plan()` method of the `exp` object. This method will generate a plan for the experiment, which can then be described using the `describe()` method. The code to create and describe the plan is shown below:"
   ]
  },
  {
   "cell_type": "code",
   "execution_count": 10,
   "metadata": {},
   "outputs": [
    {
     "name": "stdout",
     "output_type": "stream",
     "text": [
      "Task(app_id=namd, inputs={'pdb': 'input.pdb', 'psf': 'input.psf'}, runtime=Remote(args={'cluster': 'expanse', 'partition': 'shared', 'profile': 'grprsp-1'}))\n",
      "Task(app_id=namd, inputs={'pdb': 'input.pdb', 'psf': 'input.psf'}, runtime=Remote(args={'cluster': 'expanse', 'partition': 'shared', 'profile': 'grprsp-1'}))\n",
      "Task(app_id=namd, inputs={'pdb': 'input.pdb', 'psf': 'input.psf'}, runtime=Remote(args={'cluster': 'expanse', 'partition': 'shared', 'profile': 'grprsp-1'}))\n",
      "Task(app_id=namd, inputs={'pdb': 'input.pdb', 'psf': 'input.psf'}, runtime=Remote(args={'cluster': 'expanse', 'partition': 'shared', 'profile': 'grprsp-1'}))\n",
      "Task(app_id=namd, inputs={'pdb': 'input.pdb', 'psf': 'input.psf'}, runtime=Remote(args={'cluster': 'expanse', 'partition': 'shared', 'profile': 'grprsp-1'}))\n",
      "Task(app_id=namd, inputs={'pdb': 'input.pdb', 'psf': 'input.psf'}, runtime=Remote(args={'cluster': 'expanse', 'partition': 'shared', 'profile': 'grprsp-1'}))\n",
      "Task(app_id=namd, inputs={'pdb': 'input.pdb', 'psf': 'input.psf'}, runtime=Remote(args={'cluster': 'expanse', 'partition': 'shared', 'profile': 'grprsp-1'}))\n",
      "Task(app_id=namd, inputs={'pdb': 'input.pdb', 'psf': 'input.psf'}, runtime=Remote(args={'cluster': 'expanse', 'partition': 'shared', 'profile': 'grprsp-1'}))\n"
     ]
    }
   ],
   "source": [
    "plan = exp.plan()  # this will create a plan for the experiment\n",
    "plan.describe()  # this will describe the plan"
   ]
  },
  {
   "cell_type": "code",
   "execution_count": 12,
   "metadata": {},
   "outputs": [
    {
     "name": "stdout",
     "output_type": "stream",
     "text": [
      "Task(app_id=namd, inputs={'pdb': 'input.pdb', 'psf': 'input.psf'}, runtime=Remote(args={'cluster': 'expanse', 'partition': 'shared', 'profile': 'grprsp-1'}))\n",
      "Task(app_id=namd, inputs={'pdb': 'input.pdb', 'psf': 'input.psf'}, runtime=Remote(args={'cluster': 'expanse', 'partition': 'shared', 'profile': 'grprsp-1'}))\n",
      "Task(app_id=namd, inputs={'pdb': 'input.pdb', 'psf': 'input.psf'}, runtime=Remote(args={'cluster': 'expanse', 'partition': 'shared', 'profile': 'grprsp-1'}))\n",
      "Task(app_id=namd, inputs={'pdb': 'input.pdb', 'psf': 'input.psf'}, runtime=Remote(args={'cluster': 'expanse', 'partition': 'shared', 'profile': 'grprsp-1'}))\n",
      "Task(app_id=namd, inputs={'pdb': 'input.pdb', 'psf': 'input.psf'}, runtime=Remote(args={'cluster': 'expanse', 'partition': 'shared', 'profile': 'grprsp-1'}))\n",
      "Task(app_id=namd, inputs={'pdb': 'input.pdb', 'psf': 'input.psf'}, runtime=Remote(args={'cluster': 'expanse', 'partition': 'shared', 'profile': 'grprsp-1'}))\n",
      "Task(app_id=namd, inputs={'pdb': 'input.pdb', 'psf': 'input.psf'}, runtime=Remote(args={'cluster': 'expanse', 'partition': 'shared', 'profile': 'grprsp-1'}))\n",
      "Task(app_id=namd, inputs={'pdb': 'input.pdb', 'psf': 'input.psf'}, runtime=Remote(args={'cluster': 'expanse', 'partition': 'shared', 'profile': 'grprsp-1'}))\n"
     ]
    }
   ],
   "source": [
    "plan.save(\"plan.json\")\n",
    "cs.plan.load(\"plan.json\").describe()  # this will load the plan and describe it"
   ]
  },
  {
   "cell_type": "markdown",
   "metadata": {},
   "source": [
    "## Execute the Plan"
   ]
  },
  {
   "cell_type": "code",
   "execution_count": 6,
   "metadata": {},
   "outputs": [
    {
     "name": "stdout",
     "output_type": "stream",
     "text": [
      "Preparing execution plan...\n",
      "Confirming execution plan...\n",
      "Staging data for compute resource...\n",
      "Scheduling tasks on compute resource...\n",
      "Execution has started.\n"
     ]
    }
   ],
   "source": [
    "plan.execute()  # this will execute the plan (will ask for user confirmation)"
   ]
  },
  {
   "cell_type": "markdown",
   "metadata": {},
   "source": [
    "## Option A - Wait for Completion"
   ]
  },
  {
   "cell_type": "code",
   "execution_count": null,
   "metadata": {},
   "outputs": [],
   "source": [
    "plan.wait_for_completion(check_every_n_mins=10)  # this will block execution until the plan is completed - don't poll"
   ]
  },
  {
   "cell_type": "markdown",
   "metadata": {},
   "source": [
    "## Option B - Terminate Execution"
   ]
  },
  {
   "cell_type": "code",
   "execution_count": null,
   "metadata": {},
   "outputs": [],
   "source": [
    "plan.terminate()"
   ]
  },
  {
   "cell_type": "markdown",
   "metadata": {},
   "source": [
    "## Option C - Monitor Files During Execution"
   ]
  },
  {
   "cell_type": "markdown",
   "metadata": {},
   "source": [
    "Displaying the status and files generated by each replica (task)"
   ]
  },
  {
   "cell_type": "code",
   "execution_count": null,
   "metadata": {},
   "outputs": [],
   "source": [
    "for task in plan.tasks:\n",
    "    status = task.status()\n",
    "    files = task.files()\n",
    "    print(status, files)"
   ]
  },
  {
   "cell_type": "markdown",
   "metadata": {},
   "source": [
    "Displaying the intermediate results generated by each replica (task)"
   ]
  },
  {
   "cell_type": "code",
   "execution_count": null,
   "metadata": {},
   "outputs": [],
   "source": [
    "from matplotlib import pyplot as plt\n",
    "import pandas as pd\n",
    "\n",
    "for index, task in enumerate(plan.tasks):\n",
    "\n",
    "    @cs.task_context(task)\n",
    "    def visualize():\n",
    "        data = pd.read_csv(\"data.csv\")\n",
    "        plt.figure(figsize=(8, 6))\n",
    "        plt.plot(data[\"x\"], data[\"y\"], marker=\"o\", linestyle=\"-\", linewidth=2, markersize=6)\n",
    "        plt.title(f\"Plot for Replica {index} of {len(plan.tasks)}\")\n",
    "\n",
    "    visualize()"
   ]
  }
 ],
 "metadata": {
  "kernelspec": {
   "display_name": "Python 3",
   "language": "python",
   "name": "python3"
  },
  "language_info": {
   "codemirror_mode": {
    "name": "ipython",
    "version": 3
   },
   "file_extension": ".py",
   "mimetype": "text/x-python",
   "name": "python",
   "nbconvert_exporter": "python",
   "pygments_lexer": "ipython3",
   "version": "3.12.7"
  }
 },
 "nbformat": 4,
 "nbformat_minor": 2
}
