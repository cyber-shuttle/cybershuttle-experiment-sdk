{
 "cells": [
  {
   "cell_type": "markdown",
   "metadata": {},
   "source": [
    "# Cybershuttle Molecular Dynamics SDK\n",
    "\n",
    "This SDK allows users to define, plan, and execute molecular dynamics experiments with ease. In this notebook, we demonstrate how to authenticate, set up a NAMD experiment, add replicas, create an execution plan, and monitor the execution. The experiment object `exp` is an instance of `cybershuttle.base.Experiment`."
   ]
  },
  {
   "cell_type": "code",
   "execution_count": 1,
   "metadata": {},
   "outputs": [],
   "source": [
    "import cybershuttle as cs\n",
    "from cybershuttle import md"
   ]
  },
  {
   "cell_type": "markdown",
   "metadata": {},
   "source": [
    "## Authenticate for Remote Execution\n",
    "\n",
    "To authenticate for remote execution, use the `cs.auth.login()` method. This method will prompt you to enter your credentials and authenticate your session."
   ]
  },
  {
   "cell_type": "code",
   "execution_count": 2,
   "metadata": {},
   "outputs": [
    {
     "name": "stdout",
     "output_type": "stream",
     "text": [
      "User code: PDBL-VHHS\n",
      "Please authenticate by visiting: https://auth.cybershuttle.org/realms/10000000/device?user_code=PDBL-VHHS\n",
      "Waiting for authorization...\n",
      "Authorization successful!\n"
     ]
    }
   ],
   "source": [
    "cs.auth.login()\n",
    "token = cs.auth.context.access_token"
   ]
  },
  {
   "cell_type": "code",
   "execution_count": null,
   "metadata": {},
   "outputs": [
    {
     "name": "stderr",
     "output_type": "stream",
     "text": [
      "using legacy validation callback\n",
      "/Users/yasith/.mamba/envs/cybershuttle-exp/lib/python3.12/site-packages/thrift/transport/TSSLSocket.py:53: DeprecationWarning: ssl.PROTOCOL_TLS is deprecated\n",
      "  self._context = ssl.SSLContext(ssl_version)\n"
     ]
    },
    {
     "data": {
      "text/plain": [
       "'application_interface_id=NAMD_51d31a65-3526-4ca9-9bd1-d6b6b3e46f75'"
      ]
     },
     "metadata": {},
     "output_type": "display_data"
    },
    {
     "data": {
      "text/plain": [
       "'storage_resource_id=js-iguide-cybershuttle.che070035.projects.jetstream-cloud.org_9c15d8af-3d36-4c3c-a07a-0f3b4bb5b903'"
      ]
     },
     "metadata": {},
     "output_type": "display_data"
    },
    {
     "name": "stderr",
     "output_type": "stream",
     "text": [
      "100%|██████████| 9/9 [00:07<00:00,  1.27it/s, 📁 par_all36m_prot.prm]\n"
     ]
    },
    {
     "data": {
      "text/plain": [
       "'/Default_Project/NAMD_MD_SDK_2024_11_27_17_59_24'"
      ]
     },
     "metadata": {},
     "output_type": "display_data"
    },
    {
     "name": "stderr",
     "output_type": "stream",
     "text": [
      "100%|██████████| 9/9 [00:07<00:00,  1.20it/s, 📁 par_all36m_prot.prm]\n"
     ]
    },
    {
     "ename": "AttributeError",
     "evalue": "'NoneType' object has no attribute 'keys'",
     "output_type": "error",
     "traceback": [
      "\u001b[0;31m---------------------------------------------------------------------------\u001b[0m",
      "\u001b[0;31mAttributeError\u001b[0m                            Traceback (most recent call last)",
      "Cell \u001b[0;32mIn[3], line 28\u001b[0m\n\u001b[1;32m     20\u001b[0m upload_path \u001b[38;5;241m=\u001b[39m av\u001b[38;5;241m.\u001b[39mupload_files(\n\u001b[1;32m     21\u001b[0m     storage_resource\u001b[38;5;241m=\u001b[39mstorage,\n\u001b[1;32m     22\u001b[0m     input_path\u001b[38;5;241m=\u001b[39m\u001b[38;5;124m\"\u001b[39m\u001b[38;5;124m./data\u001b[39m\u001b[38;5;124m\"\u001b[39m,\n\u001b[1;32m     23\u001b[0m     project_name\u001b[38;5;241m=\u001b[39mproject_name,\n\u001b[1;32m     24\u001b[0m     experiment_name\u001b[38;5;241m=\u001b[39mexperiment_name,\n\u001b[1;32m     25\u001b[0m )\n\u001b[1;32m     26\u001b[0m display(upload_path)\n\u001b[0;32m---> 28\u001b[0m experiment \u001b[38;5;241m=\u001b[39m \u001b[43mav\u001b[49m\u001b[38;5;241;43m.\u001b[39;49m\u001b[43mlaunch_experiment\u001b[49m\u001b[43m(\u001b[49m\n\u001b[1;32m     29\u001b[0m \u001b[43m    \u001b[49m\u001b[43mexperiment_name\u001b[49m\u001b[38;5;241;43m=\u001b[39;49m\u001b[43mexperiment_name\u001b[49m\u001b[43m,\u001b[49m\n\u001b[1;32m     30\u001b[0m \u001b[43m    \u001b[49m\u001b[43mapp_name\u001b[49m\u001b[38;5;241;43m=\u001b[39;49m\u001b[43mapp_name\u001b[49m\u001b[43m,\u001b[49m\n\u001b[1;32m     31\u001b[0m \u001b[43m    \u001b[49m\u001b[43mcomputation_resource_name\u001b[49m\u001b[38;5;241;43m=\u001b[39;49m\u001b[43mhpc_name\u001b[49m\u001b[43m,\u001b[49m\n\u001b[1;32m     32\u001b[0m \u001b[43m    \u001b[49m\u001b[43minput_path\u001b[49m\u001b[38;5;241;43m=\u001b[39;49m\u001b[38;5;124;43m\"\u001b[39;49m\u001b[38;5;124;43m./data\u001b[39;49m\u001b[38;5;124;43m\"\u001b[39;49m\u001b[43m,\u001b[49m\n\u001b[1;32m     33\u001b[0m \u001b[43m)\u001b[49m\n",
      "File \u001b[0;32m~/projects/artisan/cybershuttle-experiment-sdk/src/cybershuttle/airavata.py:265\u001b[0m, in \u001b[0;36mAiravataOperator.launch_experiment\u001b[0;34m(self, experiment_name, app_name, computation_resource_name, input_path, input_mapping, gateway_id, queue_name, grp_name, sr_host, project_name, node_count, cpu_count, walltime, auto_schedule)\u001b[0m\n\u001b[1;32m    255\u001b[0m input_files \u001b[38;5;241m=\u001b[39m [\n\u001b[1;32m    256\u001b[0m     register_input(file\u001b[38;5;241m.\u001b[39mas_posix()) \u001b[38;5;28;01mfor\u001b[39;00m file \u001b[38;5;129;01min\u001b[39;00m Path(input_path)\u001b[38;5;241m.\u001b[39miterdir()\n\u001b[1;32m    257\u001b[0m     \u001b[38;5;28;01mif\u001b[39;00m file\u001b[38;5;241m.\u001b[39mis_file() \u001b[38;5;129;01mand\u001b[39;00m file\u001b[38;5;241m.\u001b[39mname \u001b[38;5;241m!=\u001b[39m \u001b[38;5;124m'\u001b[39m\u001b[38;5;124minputs.ini\u001b[39m\u001b[38;5;124m'\u001b[39m\n\u001b[1;32m    258\u001b[0m ] \u001b[38;5;28;01mif\u001b[39;00m \u001b[38;5;129;01mnot\u001b[39;00m input_mapping \u001b[38;5;28;01melse\u001b[39;00m \u001b[38;5;28;01mNone\u001b[39;00m\n\u001b[1;32m    260\u001b[0m file_mapping \u001b[38;5;241m=\u001b[39m {\n\u001b[1;32m    261\u001b[0m     key: [register_input(x) \u001b[38;5;28;01mfor\u001b[39;00m x \u001b[38;5;129;01min\u001b[39;00m value] \u001b[38;5;28;01mif\u001b[39;00m \u001b[38;5;28misinstance\u001b[39m(value, \u001b[38;5;28mlist\u001b[39m) \u001b[38;5;28;01melse\u001b[39;00m register_input(value)\n\u001b[1;32m    262\u001b[0m     \u001b[38;5;28;01mfor\u001b[39;00m key, value \u001b[38;5;129;01min\u001b[39;00m input_mapping\u001b[38;5;241m.\u001b[39mitems()\n\u001b[1;32m    263\u001b[0m } \u001b[38;5;28;01mif\u001b[39;00m input_mapping \u001b[38;5;28;01melse\u001b[39;00m \u001b[38;5;28;01mNone\u001b[39;00m\n\u001b[0;32m--> 265\u001b[0m experiment \u001b[38;5;241m=\u001b[39m \u001b[43mdata_model_util\u001b[49m\u001b[38;5;241;43m.\u001b[39;49m\u001b[43mconfigure_input_and_outputs\u001b[49m\u001b[43m(\u001b[49m\n\u001b[1;32m    266\u001b[0m \u001b[43m    \u001b[49m\u001b[43mexperiment_model\u001b[49m\u001b[38;5;241;43m=\u001b[39;49m\u001b[43mexperiment\u001b[49m\u001b[43m,\u001b[49m\n\u001b[1;32m    267\u001b[0m \u001b[43m    \u001b[49m\u001b[43mapplication_name\u001b[49m\u001b[38;5;241;43m=\u001b[39;49m\u001b[43mapp_name\u001b[49m\u001b[43m,\u001b[49m\n\u001b[1;32m    268\u001b[0m \u001b[43m    \u001b[49m\u001b[43minput_files\u001b[49m\u001b[38;5;241;43m=\u001b[39;49m\u001b[43minput_files\u001b[49m\u001b[43m,\u001b[49m\n\u001b[1;32m    269\u001b[0m \u001b[43m    \u001b[49m\u001b[43mfile_mapping\u001b[49m\u001b[38;5;241;43m=\u001b[39;49m\u001b[43mfile_mapping\u001b[49m\u001b[43m,\u001b[49m\n\u001b[1;32m    270\u001b[0m \u001b[43m\u001b[49m\u001b[43m)\u001b[49m\n\u001b[1;32m    272\u001b[0m \u001b[38;5;28;01mif\u001b[39;00m app_name \u001b[38;5;129;01min\u001b[39;00m config:\n\u001b[1;32m    273\u001b[0m   \u001b[38;5;28;01mfor\u001b[39;00m exp_input \u001b[38;5;129;01min\u001b[39;00m experiment\u001b[38;5;241m.\u001b[39mexperimentInputs:\n",
      "File \u001b[0;32m~/.mamba/envs/cybershuttle-exp/lib/python3.12/site-packages/airavata_sdk/clients/utils/data_model_creation_util.py:121\u001b[0m, in \u001b[0;36mDataModelCreationUtil.configure_input_and_outputs\u001b[0;34m(self, experiment_model, input_files, application_name, file_mapping)\u001b[0m\n\u001b[1;32m    118\u001b[0m inputs \u001b[38;5;241m=\u001b[39m \u001b[38;5;28mself\u001b[39m\u001b[38;5;241m.\u001b[39mapi_server_client\u001b[38;5;241m.\u001b[39mget_application_inputs(\u001b[38;5;28mself\u001b[39m\u001b[38;5;241m.\u001b[39mtoken, execution_id)\n\u001b[1;32m    120\u001b[0m configured_inputs \u001b[38;5;241m=\u001b[39m []\n\u001b[0;32m--> 121\u001b[0m \u001b[38;5;28;01mif\u001b[39;00m (\u001b[38;5;28mlen\u001b[39m(\u001b[43mfile_mapping\u001b[49m\u001b[38;5;241;43m.\u001b[39;49m\u001b[43mkeys\u001b[49m()) \u001b[38;5;241m==\u001b[39m \u001b[38;5;241m0\u001b[39m):\n\u001b[1;32m    122\u001b[0m     count \u001b[38;5;241m=\u001b[39m \u001b[38;5;241m0\u001b[39m\n\u001b[1;32m    123\u001b[0m     \u001b[38;5;28;01mfor\u001b[39;00m obj \u001b[38;5;129;01min\u001b[39;00m inputs:\n",
      "\u001b[0;31mAttributeError\u001b[0m: 'NoneType' object has no attribute 'keys'"
     ]
    }
   ],
   "source": [
    "from cybershuttle.airavata import AiravataOperator\n",
    "\n",
    "assert token is not None\n",
    "\n",
    "av = AiravataOperator(token)\n",
    "\n",
    "# Example: get app interface id and storage resource id\n",
    "app_interface_id = av.get_app_interface_id(\"NAMD\")\n",
    "storage = av.get_storage()\n",
    "storage_resource_id = storage.storageResourceId\n",
    "display(f\"application_interface_id={app_interface_id}\")\n",
    "display(f\"storage_resource_id={storage_resource_id}\")\n",
    "\n",
    "# Example: upload files\n",
    "experiment_name = \"NAMD_MD_SDK\"\n",
    "app_name = \"NAMD\"\n",
    "hpc_name = \"login.expanse.sdsc.edu\"\n",
    "\n",
    "experiment = av.launch_experiment(\n",
    "    experiment_name=experiment_name,\n",
    "    app_name=app_name,\n",
    "    computation_resource_name=hpc_name,\n",
    "    input_path=\"./data\",\n",
    ")"
   ]
  },
  {
   "cell_type": "markdown",
   "metadata": {},
   "source": [
    "## Define a NAMD Experiment\n",
    "\n",
    "To define a NAMD experiment, we initialize an instance of the `cybershuttle.base.Experiment` class with the required parameters such as the name of the experiment, and the input PDB and PSF files. The experiment object `exp` is created as shown below:"
   ]
  },
  {
   "cell_type": "code",
   "execution_count": null,
   "metadata": {},
   "outputs": [],
   "source": [
    "# exp = md.AlphaFold.initialize(\n",
    "#     name=\"yasith_namd_experiment\",\n",
    "#     config_file=\"data/pull.conf\",\n",
    "#     pdb_file=\"data/structure.pdb\",\n",
    "#     psf_file=\"data/structure.psf\",\n",
    "#     other_files=[\n",
    "#       \"data/b4pull.pdb\",\n",
    "#       \"data/b4pull.restart.coor\",\n",
    "#       \"data/b4pull.restart.vel\",\n",
    "#       \"data/b4pull.restart.xsc\",\n",
    "#       \"data/par_all36_water.prm\",\n",
    "#       \"data/par_all36_prot.prm\",\n",
    "#     ]\n",
    "# )\n",
    "\n",
    "exp = md.NAMD.initialize(\n",
    "    name=\"yasith_namd_experiment\",\n",
    "    config_file=\"data/pull.conf\",\n",
    "    pdb_file=\"data/structure.pdb\",\n",
    "    psf_file=\"data/structure.psf\",\n",
    "    other_files=[\n",
    "      \"data/b4pull.pdb\",\n",
    "      \"data/b4pull.restart.coor\",\n",
    "      \"data/b4pull.restart.vel\",\n",
    "      \"data/b4pull.restart.xsc\",\n",
    "      \"data/par_all36_water.prm\",\n",
    "      \"data/par_all36_prot.prm\",\n",
    "    ]\n",
    ")"
   ]
  },
  {
   "cell_type": "markdown",
   "metadata": {},
   "source": [
    "## Add Replicas for NAMD Experiment\n",
    "\n",
    "To add replicas to the NAMD experiment, we use the `add_replica()` method of the `exp` object. This method adds a replica to the experiment. In this example, we add 4 replicas as shown below:"
   ]
  },
  {
   "cell_type": "code",
   "execution_count": null,
   "metadata": {},
   "outputs": [],
   "source": [
    "runtimes = cs.runtime.query()\n",
    "\n",
    "# always 0th index is local runtime inside\n",
    "# 0th runtime requires docker to be installed\n",
    "\n",
    "display(runtimes)"
   ]
  },
  {
   "cell_type": "code",
   "execution_count": null,
   "metadata": {},
   "outputs": [],
   "source": [
    "# choose between any replicas user has access to\n",
    "# exp.add_replica(*runtimes)\n",
    "\n",
    "# OR choose any replica that is not local\n",
    "exp.add_replica(*runtimes[1:])\n",
    "\n",
    "# OR use only a specific replica\n",
    "# exp.add_replica(runtimes[1])"
   ]
  },
  {
   "cell_type": "markdown",
   "metadata": {},
   "source": [
    "## Create Execution Plan\n",
    "\n",
    "To create an execution plan for the experiment, use the `plan()` method of the `exp` object. This method will generate a plan for the experiment, which can then be described using the `describe()` method. The code to create and describe the plan is shown below:"
   ]
  },
  {
   "cell_type": "code",
   "execution_count": null,
   "metadata": {},
   "outputs": [],
   "source": [
    "plan = exp.plan()  # this will create a plan for the experiment\n",
    "plan.describe()  # this will describe the plan"
   ]
  },
  {
   "cell_type": "code",
   "execution_count": null,
   "metadata": {},
   "outputs": [],
   "source": [
    "# can also save the plan to a file, or load a plan from a file\n",
    "plan.save_json(\"plan.json\")\n",
    "plan = cs.plan.Plan.load_json(\"plan.json\")\n",
    "plan.describe()"
   ]
  },
  {
   "cell_type": "markdown",
   "metadata": {},
   "source": [
    "## Execute the Plan"
   ]
  },
  {
   "cell_type": "code",
   "execution_count": null,
   "metadata": {},
   "outputs": [],
   "source": [
    "plan.run()"
   ]
  },
  {
   "cell_type": "markdown",
   "metadata": {},
   "source": [
    "## Option A - Wait for Completion"
   ]
  },
  {
   "cell_type": "code",
   "execution_count": null,
   "metadata": {},
   "outputs": [],
   "source": [
    "plan.join()"
   ]
  },
  {
   "cell_type": "markdown",
   "metadata": {},
   "source": [
    "## Option B - Terminate Execution"
   ]
  },
  {
   "cell_type": "code",
   "execution_count": null,
   "metadata": {},
   "outputs": [],
   "source": [
    "plan.stop()"
   ]
  },
  {
   "cell_type": "markdown",
   "metadata": {},
   "source": [
    "## Option C - Monitor Files During Execution"
   ]
  },
  {
   "cell_type": "markdown",
   "metadata": {},
   "source": [
    "Displaying the status and files generated by each replica (task)"
   ]
  },
  {
   "cell_type": "code",
   "execution_count": null,
   "metadata": {},
   "outputs": [],
   "source": [
    "for task in plan.tasks:\n",
    "    status = task.status()\n",
    "    files = task.files()\n",
    "    print(status, files)"
   ]
  },
  {
   "cell_type": "markdown",
   "metadata": {},
   "source": [
    "Displaying the intermediate results generated by each replica (task)"
   ]
  },
  {
   "cell_type": "code",
   "execution_count": null,
   "metadata": {},
   "outputs": [],
   "source": [
    "from matplotlib import pyplot as plt\n",
    "import pandas as pd\n",
    "\n",
    "for index, task in enumerate(plan.tasks):\n",
    "\n",
    "    @cs.task_context(task)\n",
    "    def visualize():\n",
    "        data = pd.read_csv(\"data.csv\")\n",
    "        plt.figure(figsize=(8, 6))\n",
    "        plt.plot(data[\"x\"], data[\"y\"], marker=\"o\", linestyle=\"-\", linewidth=2, markersize=6)\n",
    "        plt.title(f\"Plot for Replica {index} of {len(plan.tasks)}\")\n",
    "\n",
    "    visualize()"
   ]
  }
 ],
 "metadata": {
  "kernelspec": {
   "display_name": "Python 3",
   "language": "python",
   "name": "python3"
  },
  "language_info": {
   "codemirror_mode": {
    "name": "ipython",
    "version": 3
   },
   "file_extension": ".py",
   "mimetype": "text/x-python",
   "name": "python",
   "nbconvert_exporter": "python",
   "pygments_lexer": "ipython3",
   "version": "3.12.7"
  }
 },
 "nbformat": 4,
 "nbformat_minor": 2
}
