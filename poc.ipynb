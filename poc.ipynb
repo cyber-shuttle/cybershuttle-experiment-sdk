{
 "cells": [
  {
   "cell_type": "markdown",
   "metadata": {},
   "source": [
    "# Cybershuttle Molecular Dynamics SDK\n",
    "\n",
    "This SDK allows users to define, plan, and execute molecular dynamics experiments with ease. In this notebook, we demonstrate how to authenticate, set up a NAMD experiment, add replicas, create an execution plan, and monitor the execution. The experiment object `exp` is an instance of `cybershuttle.base.Experiment`."
   ]
  },
  {
   "cell_type": "code",
   "execution_count": 1,
   "metadata": {},
   "outputs": [],
   "source": [
    "import cybershuttle as cs\n",
    "from cybershuttle import md"
   ]
  },
  {
   "cell_type": "markdown",
   "metadata": {},
   "source": [
    "## Authenticate for Remote Execution\n",
    "\n",
    "To authenticate for remote execution, use the `cs.auth.login()` method. This method will prompt you to enter your credentials and authenticate your session."
   ]
  },
  {
   "cell_type": "code",
   "execution_count": 2,
   "metadata": {},
   "outputs": [
    {
     "name": "stdout",
     "output_type": "stream",
     "text": [
      "User code: TRYR-FHCX\n",
      "Please authenticate by visiting: https://auth.cybershuttle.org/realms/10000000/device?user_code=TRYR-FHCX\n",
      "Waiting for authorization...\n",
      "Authorization successful!\n"
     ]
    }
   ],
   "source": [
    "cs.auth.login()\n",
    "token = cs.auth.context.access_token"
   ]
  },
  {
   "cell_type": "markdown",
   "metadata": {},
   "source": [
    "## Define a NAMD Experiment\n",
    "\n",
    "To define a NAMD experiment, we initialize an instance of the `cybershuttle.base.Experiment` class with the required parameters such as the name of the experiment, and the input PDB and PSF files. The experiment object `exp` is created as shown below:"
   ]
  },
  {
   "cell_type": "code",
   "execution_count": 3,
   "metadata": {},
   "outputs": [],
   "source": [
    "exp = md.NAMD.initialize(\n",
    "    name=\"yasith_namd_experiment\",\n",
    "    config_file=\"data/pull.conf\",\n",
    "    pdb_file=\"data/structure.pdb\",\n",
    "    psf_file=\"data/structure.psf\",\n",
    "    ffp_files=[\n",
    "      \"data/par_all36_water.prm\",\n",
    "      \"data/par_all36m_prot.prm\"\n",
    "    ],\n",
    "    other_files=[\n",
    "      \"data/b4pull.pdb\",\n",
    "      \"data/b4pull.restart.coor\",\n",
    "      \"data/b4pull.restart.vel\",\n",
    "      \"data/b4pull.restart.xsc\",\n",
    "    ]\n",
    ")"
   ]
  },
  {
   "cell_type": "markdown",
   "metadata": {},
   "source": [
    "## Add Replicas for NAMD Experiment\n",
    "\n",
    "To add replicas to the NAMD experiment, we use the `add_replica()` method of the `exp` object. This method adds a replica to the experiment. In this example, we add 4 replicas as shown below:"
   ]
  },
  {
   "cell_type": "code",
   "execution_count": 4,
   "metadata": {},
   "outputs": [
    {
     "data": {
      "text/plain": [
       "[Mock(id='mock', args={}),\n",
       " Remote(id='remote', args={'cluster': 'login.expanse.sdsc.edu'})]"
      ]
     },
     "metadata": {},
     "output_type": "display_data"
    }
   ],
   "source": [
    "runtimes = cs.runtime.query()\n",
    "\n",
    "# always 0th index is local runtime inside\n",
    "# 0th runtime requires docker to be installed\n",
    "\n",
    "display(runtimes)"
   ]
  },
  {
   "cell_type": "code",
   "execution_count": 5,
   "metadata": {},
   "outputs": [],
   "source": [
    "# choose between any replicas user has access to\n",
    "# exp.add_replica(*runtimes)\n",
    "\n",
    "# OR choose any replica that is not local\n",
    "exp.add_replica(*runtimes[1:])\n",
    "\n",
    "# OR use only a specific replica\n",
    "# exp.add_replica(runtimes[1])"
   ]
  },
  {
   "cell_type": "markdown",
   "metadata": {},
   "source": [
    "## Create Execution Plan\n",
    "\n",
    "To create an execution plan for the experiment, use the `plan()` method of the `exp` object. This method will generate a plan for the experiment, which can then be described using the `describe()` method. The code to create and describe the plan is shown below:"
   ]
  },
  {
   "cell_type": "code",
   "execution_count": 6,
   "metadata": {},
   "outputs": [
    {
     "name": "stdout",
     "output_type": "stream",
     "text": [
      "Task(name=yasith_namd_experiment, app_id=NAMD, inputs={'MD-Instructions-Input': 'data/pull.conf', 'Coordinates-PDB-File': 'data/structure.pdb', 'Protein-Structure-File_PSF': 'data/structure.psf', 'FF-Parameter-Files': ['data/par_all36_water.prm', 'data/par_all36m_prot.prm'], 'Execution_Type': 'CPU', 'Optional_Inputs': ['data/b4pull.pdb', 'data/b4pull.restart.coor', 'data/b4pull.restart.vel', 'data/b4pull.restart.xsc'], 'Number of Replicas': 1}, runtime=Remote(args={'cluster': 'login.expanse.sdsc.edu'}))\n"
     ]
    }
   ],
   "source": [
    "plan = exp.plan()  # this will create a plan for the experiment\n",
    "plan.describe()  # this will describe the plan"
   ]
  },
  {
   "cell_type": "code",
   "execution_count": 7,
   "metadata": {},
   "outputs": [
    {
     "name": "stdout",
     "output_type": "stream",
     "text": [
      "Task(name=yasith_namd_experiment, app_id=NAMD, inputs={'MD-Instructions-Input': 'data/pull.conf', 'Coordinates-PDB-File': 'data/structure.pdb', 'Protein-Structure-File_PSF': 'data/structure.psf', 'FF-Parameter-Files': ['data/par_all36_water.prm', 'data/par_all36m_prot.prm'], 'Execution_Type': 'CPU', 'Optional_Inputs': ['data/b4pull.pdb', 'data/b4pull.restart.coor', 'data/b4pull.restart.vel', 'data/b4pull.restart.xsc'], 'Number of Replicas': 1}, runtime=Remote(args={'cluster': 'login.expanse.sdsc.edu'}))\n"
     ]
    }
   ],
   "source": [
    "# can also save the plan to a file, or load a plan from a file\n",
    "plan.save_json(\"plan.json\")\n",
    "plan = cs.plan.Plan.load_json(\"plan.json\")\n",
    "plan.describe()"
   ]
  },
  {
   "cell_type": "markdown",
   "metadata": {},
   "source": [
    "## Execute the Plan"
   ]
  },
  {
   "cell_type": "code",
   "execution_count": 8,
   "metadata": {},
   "outputs": [
    {
     "name": "stdout",
     "output_type": "stream",
     "text": [
      "Preparing execution plan...\n",
      "Task(name=yasith_namd_experiment, app_id=NAMD, inputs={'MD-Instructions-Input': 'data/pull.conf', 'Coordinates-PDB-File': 'data/structure.pdb', 'Protein-Structure-File_PSF': 'data/structure.psf', 'FF-Parameter-Files': ['data/par_all36_water.prm', 'data/par_all36m_prot.prm'], 'Execution_Type': 'CPU', 'Optional_Inputs': ['data/b4pull.pdb', 'data/b4pull.restart.coor', 'data/b4pull.restart.vel', 'data/b4pull.restart.xsc'], 'Number of Replicas': 1}, runtime=Remote(args={'cluster': 'login.expanse.sdsc.edu'}))\n",
      "Confirming execution plan...\n"
     ]
    },
    {
     "name": "stderr",
     "output_type": "stream",
     "text": [
      "using legacy validation callback\n"
     ]
    },
    {
     "name": "stdout",
     "output_type": "stream",
     "text": [
      "Starting tasks...\n",
      "Executing task: yasith_namd_experiment on Remote(args={'cluster': 'login.expanse.sdsc.edu'})\n",
      "[Remote] experiment_name=yasith_namd_experiment, av=<cybershuttle.airavata.AiravataOperator object at 0x106818f20>\n",
      "[AV] Preprocessing args...\n",
      "[AV] Validating args...\n",
      "[AV] Setting up runtime params...\n"
     ]
    },
    {
     "name": "stderr",
     "output_type": "stream",
     "text": [
      "/Users/yasith/.mamba/envs/cybershuttle-exp/lib/python3.12/site-packages/thrift/transport/TSSLSocket.py:53: DeprecationWarning: ssl.PROTOCOL_TLS is deprecated\n",
      "  self._context = ssl.SSLContext(ssl_version)\n"
     ]
    },
    {
     "name": "stdout",
     "output_type": "stream",
     "text": [
      "[AV] Setting up application interface...\n",
      "[AV] Setting up experiment...\n",
      "[AV] Setting up experiment directory...\n",
      "[AV] exp_dir: /Default_Project/yasith_namd_experiment_2024_12_01_01_06_27\n",
      "[AV] abs_path: /var/www/portals/gateway-user-data/iguide-cybershuttle/pjaya001@odu.edu/Default_Project/yasith_namd_experiment_2024_12_01_01_06_27/\n",
      "[AV] Setting up file inputs...\n",
      "[AV] Uploading file inputs for experiment...\n"
     ]
    },
    {
     "name": "stderr",
     "output_type": "stream",
     "text": [
      "100%|██████████| 9/9 [00:10<00:00,  1.13s/it, 📁 data/b4pull.restart.xsc] \n"
     ]
    },
    {
     "name": "stdout",
     "output_type": "stream",
     "text": [
      "experiment_inputs= [InputDataObjectType(name='Constraints-PDB', value=None, type=3, applicationArgument=None, standardInput=False, userFriendlyDescription='Constraints file in pdb', metaData=None, inputOrder=7, isRequired=False, requiredToAddedToCommandLine=False, dataStaged=False, storageResourceId=None, isReadOnly=False, overrideFilename=None), InputDataObjectType(name='Continue_from_Previous_Run?', value=None, type=0, applicationArgument=None, standardInput=False, userFriendlyDescription=None, metaData='{\"editor\": {\"ui-component-id\": \"checkbox-input-editor\", \"config\": {\"options\": [{\"value\": \"yes\", \"text\": \"Yes\"}]}}}', inputOrder=1, isRequired=False, requiredToAddedToCommandLine=False, dataStaged=False, storageResourceId=None, isReadOnly=False, overrideFilename=None), InputDataObjectType(name='Coordinates-PDB-File', value='airavata-dp://2be52ff4-198b-45d6-b064-f74c17f5a4b7', type=3, applicationArgument=None, standardInput=False, userFriendlyDescription='PDB coordinates files needed but could be uploaded using optional upload below together with other needed files', metaData=None, inputOrder=4, isRequired=False, requiredToAddedToCommandLine=False, dataStaged=False, storageResourceId=None, isReadOnly=False, overrideFilename=None), InputDataObjectType(name='Execution_Type', value='CPU', type=0, applicationArgument='-t', standardInput=False, userFriendlyDescription='CPU or GPU executable to be used. If you chose GPU please make sure GPU partitions are selected at the Resource selection below. Delta reservation is for A40 Gpus. Replica runs needs to use GPU partition.', metaData='{\"editor\": {\"ui-component-id\": \"radio-button-input-editor\", \"config\": {\"options\": [{\"value\": \"CPU\", \"text\": \" CPU\"}, {\"value\": \"GPU\", \"text\": \"GPU\"}]}}}', inputOrder=0, isRequired=True, requiredToAddedToCommandLine=True, dataStaged=False, storageResourceId=None, isReadOnly=False, overrideFilename=None), InputDataObjectType(name='FF-Parameter-Files', value='airavata-dp://89d7d046-6137-4e68-827b-5004b0e91a5b,airavata-dp://4e8742c1-64a9-4e10-b171-42207bdb5312', type=4, applicationArgument=None, standardInput=False, userFriendlyDescription='Force field parameter and related files (e.g, *.prm and *.str files) needed but could be uploaded using optional upload below together with other needed files', metaData=None, inputOrder=6, isRequired=False, requiredToAddedToCommandLine=False, dataStaged=False, storageResourceId=None, isReadOnly=False, overrideFilename=None), InputDataObjectType(name='GPU Resource Warning', value=\"Change the Queue from CPU to a GPU one (A100X4 or A100X8 or MI100X4) using 'Select a Queue' clicking on 'Settings for Queue' below\", type=0, applicationArgument=None, standardInput=False, userFriendlyDescription='The GPU Execution_Type  selected above  requires GPU partition selection. Otherwise it may lead to failed run.', metaData='{\"editor\": {\"dependencies\": {\"show\": {\"Execution_Type\": {\"comparison\": \"equals\", \"value\": \"GPU\"}}, \"showOptions\": {\"isRequired\": false}}}}', inputOrder=12, isRequired=False, requiredToAddedToCommandLine=False, dataStaged=False, storageResourceId=None, isReadOnly=False, overrideFilename=None), InputDataObjectType(name='MD-Instructions-Input', value='airavata-dp://85ef57a3-2367-4517-8218-a30609953f4f', type=3, applicationArgument='-i', standardInput=False, userFriendlyDescription='NAMD conf file/QuickMD conf file', metaData=None, inputOrder=3, isRequired=True, requiredToAddedToCommandLine=True, dataStaged=False, storageResourceId=None, isReadOnly=False, overrideFilename=None), InputDataObjectType(name='Optional_Inputs', value='airavata-dp://3d60a7ed-d871-4804-9fe9-6555541ffa41,airavata-dp://fda3a5fe-e156-4806-983a-830548bc3eeb,airavata-dp://44791689-31bb-447e-a102-3b26e9361bcc,airavata-dp://b1a4bc38-812d-42c6-acf8-bb9f95e18f6a', type=4, applicationArgument=None, standardInput=False, userFriendlyDescription='Any other optional and all needed inputs to be uploaded, for a modified DCD out please upload your instructions for modification in a file named ModDCD.tcl.', metaData=None, inputOrder=8, isRequired=False, requiredToAddedToCommandLine=False, dataStaged=False, storageResourceId=None, isReadOnly=False, overrideFilename=None), InputDataObjectType(name='Previous_JobID', value=None, type=0, applicationArgument='-r', standardInput=False, userFriendlyDescription='JobID from the previous run from which the restart/reuse data is to be extracted.', metaData='{\"editor\": {\"dependencies\": {\"show\": {\"Continue_from_Previous_Run?\": {\"comparison\": \"equals\", \"value\": \"yes\"}}, \"showOptions\": {\"isRequired\": true}}}}', inputOrder=2, isRequired=True, requiredToAddedToCommandLine=True, dataStaged=False, storageResourceId=None, isReadOnly=False, overrideFilename=None), InputDataObjectType(name='Protein-Structure-File_PSF', value='airavata-dp://a62b872c-9815-4a53-9866-d8941f8356f6', type=3, applicationArgument=None, standardInput=False, userFriendlyDescription='Protein structure file (psf) needed but could be uploaded using optional upload below together with other needed files', metaData=None, inputOrder=5, isRequired=False, requiredToAddedToCommandLine=False, dataStaged=False, storageResourceId=None, isReadOnly=False, overrideFilename=None), InputDataObjectType(name='Replicate?', value=None, type=0, applicationArgument=None, standardInput=False, userFriendlyDescription='Optionally Specify if Replicated runs needed. Make sure the resources requested are commensurate, such as as many nodes as replicas.', metaData='{\"editor\": {\"ui-component-id\": \"checkbox-input-editor\", \"config\": {\"options\": [{\"value\": \"yes\", \"text\": \"Yes\"}]}}}', inputOrder=9, isRequired=False, requiredToAddedToCommandLine=False, dataStaged=False, storageResourceId=None, isReadOnly=False, overrideFilename=None), InputDataObjectType(name='Restart_Replicas_List', value=None, type=0, applicationArgument='-l', standardInput=False, userFriendlyDescription='Optionally specify a comma delimited list of replicas to restart (incomplete runs from a previous job), Make sure the resources requested are commensurate, such as as many nodes as replicas.', metaData='{\"editor\": {\"dependencies\": {\"show\": {\"Continue_from_Previous_Run?\": {\"comparison\": \"equals\", \"value\": \"yes\"}}, \"showOptions\": {\"isRequired\": false}}}}', inputOrder=11, isRequired=False, requiredToAddedToCommandLine=True, dataStaged=False, storageResourceId=None, isReadOnly=False, overrideFilename=None)]\n",
      "experiment_outputs= [OutputDataObjectType(name='Coordinate_Files', value='*.coor', type=4, applicationArgument=None, isRequired=False, requiredToAddedToCommandLine=False, dataMovement=False, location=None, searchQuery=None, outputStreaming=False, storageResourceId=None, metaData=None), OutputDataObjectType(name='NAMD-Standard-Error', value=None, type=6, applicationArgument=None, isRequired=True, requiredToAddedToCommandLine=False, dataMovement=False, location=None, searchQuery=None, outputStreaming=False, storageResourceId=None, metaData='{\"file-metadata\": {\"mime-type\": \"text/plain\"}}'), OutputDataObjectType(name='NAMD-Standard-Out', value=None, type=5, applicationArgument=None, isRequired=True, requiredToAddedToCommandLine=False, dataMovement=False, location=None, searchQuery=None, outputStreaming=False, storageResourceId=None, metaData='{\"file-metadata\": {\"mime-type\": \"text/plain\"}}'), OutputDataObjectType(name='Output_Index_files', value='*.idx', type=4, applicationArgument=None, isRequired=False, requiredToAddedToCommandLine=False, dataMovement=False, location=None, searchQuery=None, outputStreaming=False, storageResourceId=None, metaData=None), OutputDataObjectType(name='Output_PDB_Files', value='*.pdb', type=4, applicationArgument=None, isRequired=False, requiredToAddedToCommandLine=False, dataMovement=False, location=None, searchQuery=None, outputStreaming=False, storageResourceId=None, metaData=None), OutputDataObjectType(name='Output_PSF_Files', value='*.psf', type=4, applicationArgument=None, isRequired=False, requiredToAddedToCommandLine=False, dataMovement=False, location=None, searchQuery=None, outputStreaming=False, storageResourceId=None, metaData=None), OutputDataObjectType(name='Replica_Outputs', value='*.out', type=4, applicationArgument=None, isRequired=False, requiredToAddedToCommandLine=False, dataMovement=False, location=None, searchQuery=None, outputStreaming=False, storageResourceId=None, metaData=None), OutputDataObjectType(name='Restart_Files', value='*.restart.*', type=4, applicationArgument=None, isRequired=False, requiredToAddedToCommandLine=False, dataMovement=False, location=None, searchQuery=None, outputStreaming=False, storageResourceId=None, metaData=None), OutputDataObjectType(name='Trajectory-Files', value='*.dcd', type=4, applicationArgument=None, isRequired=False, requiredToAddedToCommandLine=False, dataMovement=False, location=None, searchQuery=None, outputStreaming=False, storageResourceId=None, metaData=None)]\n",
      "experiment_id: yasith_namd_experiment_83e4c9ef-fa28-410e-ad64-4e33f0efc34d\n"
     ]
    }
   ],
   "source": [
    "plan.run()"
   ]
  },
  {
   "cell_type": "markdown",
   "metadata": {},
   "source": [
    "## Option A - Wait for Completion"
   ]
  },
  {
   "cell_type": "code",
   "execution_count": 13,
   "metadata": {},
   "outputs": [
    {
     "name": "stdout",
     "output_type": "stream",
     "text": [
      "Checking task(s) status...\n",
      "task(s) status: ['COMPLETED']\n",
      "Task(s) complete.\n"
     ]
    }
   ],
   "source": [
    "plan.join()"
   ]
  },
  {
   "cell_type": "markdown",
   "metadata": {},
   "source": [
    "## Option B - Terminate Execution"
   ]
  },
  {
   "cell_type": "code",
   "execution_count": 10,
   "metadata": {},
   "outputs": [
    {
     "name": "stdout",
     "output_type": "stream",
     "text": [
      "Stopping task(s)...\n",
      "Task(s) stopped.\n"
     ]
    }
   ],
   "source": [
    "plan.stop()"
   ]
  },
  {
   "cell_type": "markdown",
   "metadata": {},
   "source": [
    "## Option C - Monitor Files During Execution"
   ]
  },
  {
   "cell_type": "markdown",
   "metadata": {},
   "source": [
    "Displaying the status and files generated by each replica (task)"
   ]
  },
  {
   "cell_type": "code",
   "execution_count": 11,
   "metadata": {},
   "outputs": [
    {
     "name": "stdout",
     "output_type": "stream",
     "text": [
      "COMPLETED []\n"
     ]
    }
   ],
   "source": [
    "for task in plan.tasks:\n",
    "    status = task.status()\n",
    "    files = task.files()\n",
    "    print(status, files)"
   ]
  },
  {
   "cell_type": "markdown",
   "metadata": {},
   "source": [
    "Displaying the intermediate results generated by each replica (task)"
   ]
  },
  {
   "cell_type": "code",
   "execution_count": 12,
   "metadata": {},
   "outputs": [
    {
     "ename": "ModuleNotFoundError",
     "evalue": "No module named 'matplotlib'",
     "output_type": "error",
     "traceback": [
      "\u001b[0;31m---------------------------------------------------------------------------\u001b[0m",
      "\u001b[0;31mModuleNotFoundError\u001b[0m                       Traceback (most recent call last)",
      "Cell \u001b[0;32mIn[12], line 1\u001b[0m\n\u001b[0;32m----> 1\u001b[0m \u001b[38;5;28;01mfrom\u001b[39;00m \u001b[38;5;21;01mmatplotlib\u001b[39;00m \u001b[38;5;28;01mimport\u001b[39;00m pyplot \u001b[38;5;28;01mas\u001b[39;00m plt\n\u001b[1;32m      2\u001b[0m \u001b[38;5;28;01mimport\u001b[39;00m \u001b[38;5;21;01mpandas\u001b[39;00m \u001b[38;5;28;01mas\u001b[39;00m \u001b[38;5;21;01mpd\u001b[39;00m\n\u001b[1;32m      4\u001b[0m \u001b[38;5;28;01mfor\u001b[39;00m index, task \u001b[38;5;129;01min\u001b[39;00m \u001b[38;5;28menumerate\u001b[39m(plan\u001b[38;5;241m.\u001b[39mtasks):\n",
      "\u001b[0;31mModuleNotFoundError\u001b[0m: No module named 'matplotlib'"
     ]
    }
   ],
   "source": [
    "from matplotlib import pyplot as plt\n",
    "import pandas as pd\n",
    "\n",
    "for index, task in enumerate(plan.tasks):\n",
    "\n",
    "    @cs.task_context(task)\n",
    "    def visualize():\n",
    "        data = pd.read_csv(\"data.csv\")\n",
    "        plt.figure(figsize=(8, 6))\n",
    "        plt.plot(data[\"x\"], data[\"y\"], marker=\"o\", linestyle=\"-\", linewidth=2, markersize=6)\n",
    "        plt.title(f\"Plot for Replica {index} of {len(plan.tasks)}\")\n",
    "\n",
    "    visualize()"
   ]
  },
  {
   "cell_type": "code",
   "execution_count": null,
   "metadata": {},
   "outputs": [],
   "source": [
    "from cybershuttle.airavata import AiravataOperator\n",
    "\n",
    "assert token is not None\n",
    "\n",
    "av = AiravataOperator(token)\n",
    "\n",
    "# Example: get app interface id and storage resource id\n",
    "app_interface_id = av.get_app_interface_id(\"NAMD\")\n",
    "storage = av.get_storage()\n",
    "storage_resource_id = storage.storageResourceId\n",
    "display(f\"application_interface_id={app_interface_id}\")\n",
    "display(f\"storage_resource_id={storage_resource_id}\")\n",
    "\n",
    "# Example: upload files\n",
    "experiment_name = \"NAMD_MD_SDK\"\n",
    "app_name = \"NAMD\"\n",
    "hpc_name = \"login.expanse.sdsc.edu\"\n",
    "\n",
    "experiment = av.launch_experiment(\n",
    "    experiment_name=experiment_name,\n",
    "    app_name=app_name,\n",
    "    computation_resource_name=hpc_name,\n",
    "    inputs={\n",
    "        \"MD-Instructions-Input\": \"./data/pull.conf\",\n",
    "        \"Constraints-PDB-File\": \"./data/structure.pdb\",\n",
    "        \"Protein-Structure-File_PSF\": \"./data/structure.psf\",\n",
    "        \"FF-Parameter-Files\": [\n",
    "            \"./data/par_all36_water.prm\",\n",
    "            \"./data/par_all36m_prot.prm\"\n",
    "        ],\n",
    "        \"Execution_Type\": \"CPU\",\n",
    "        \"Optional_Inputs\": [\n",
    "            \"./data/b4pull.restart.xsc\",\n",
    "            \"./data/b4pull.restart.vel\",\n",
    "            \"./data/b4pull.pdb\",\n",
    "            \"./data/b4pull.restart.coor\",\n",
    "        ],\n",
    "    }\n",
    ")"
   ]
  }
 ],
 "metadata": {
  "kernelspec": {
   "display_name": "Python 3",
   "language": "python",
   "name": "python3"
  },
  "language_info": {
   "codemirror_mode": {
    "name": "ipython",
    "version": 3
   },
   "file_extension": ".py",
   "mimetype": "text/x-python",
   "name": "python",
   "nbconvert_exporter": "python",
   "pygments_lexer": "ipython3",
   "version": "3.12.7"
  }
 },
 "nbformat": 4,
 "nbformat_minor": 2
}
