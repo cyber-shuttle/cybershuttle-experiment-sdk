{
 "cells": [
  {
   "cell_type": "markdown",
   "metadata": {},
   "source": [
    "# Cybershuttle Molecular Dynamics SDK\n",
    "\n",
    "This SDK allows users to define, plan, and execute molecular dynamics experiments with ease. In this notebook, we demonstrate how to authenticate, set up a NAMD experiment, add replicas, create an execution plan, and monitor the execution. The experiment object `exp` is an instance of `cybershuttle.base.Experiment`."
   ]
  },
  {
   "cell_type": "code",
   "execution_count": 1,
   "metadata": {},
   "outputs": [],
   "source": [
    "import cybershuttle as cs\n",
    "from cybershuttle import md"
   ]
  },
  {
   "cell_type": "markdown",
   "metadata": {},
   "source": [
    "## Authenticate for Remote Execution\n",
    "\n",
    "To authenticate for remote execution, use the `cs.auth.login()` method. This method will prompt you to enter your credentials and authenticate your session."
   ]
  },
  {
   "cell_type": "code",
   "execution_count": 14,
   "metadata": {},
   "outputs": [
    {
     "name": "stdout",
     "output_type": "stream",
     "text": [
      "User code: NPCD-MBKV\n",
      "Please authenticate by visiting: https://auth.cybershuttle.org/realms/10000000/device?user_code=NPCD-MBKV\n",
      "Waiting for authorization...\n",
      "Authorization successful!\n"
     ]
    }
   ],
   "source": [
    "cs.auth.login()\n",
    "token = cs.auth.context.access_token"
   ]
  },
  {
   "cell_type": "markdown",
   "metadata": {},
   "source": [
    "## Define a NAMD Experiment\n",
    "\n",
    "To define a NAMD experiment, we initialize an instance of the `cybershuttle.base.Experiment` class with the required parameters such as the name of the experiment, and the input PDB and PSF files. The experiment object `exp` is created as shown below:"
   ]
  },
  {
   "cell_type": "code",
   "execution_count": 15,
   "metadata": {},
   "outputs": [],
   "source": [
    "exp = md.NAMD.initialize(\n",
    "    name=\"yasith_namd_experiment\",\n",
    "    config_file=\"data/pull.conf\",\n",
    "    pdb_file=\"data/structure.pdb\",\n",
    "    psf_file=\"data/structure.psf\",\n",
    "    ffp_files=[\n",
    "      \"data/par_all36_water.prm\",\n",
    "      \"data/par_all36m_prot.prm\"\n",
    "    ],\n",
    "    other_files=[\n",
    "      \"data/b4pull.pdb\",\n",
    "      \"data/b4pull.restart.coor\",\n",
    "      \"data/b4pull.restart.vel\",\n",
    "      \"data/b4pull.restart.xsc\",\n",
    "    ]\n",
    ")"
   ]
  },
  {
   "cell_type": "markdown",
   "metadata": {},
   "source": [
    "## Add Replicas for NAMD Experiment\n",
    "\n",
    "To add replicas to the NAMD experiment, we use the `add_replica()` method of the `exp` object. This method adds a replica to the experiment. In this example, we add 4 replicas as shown below:"
   ]
  },
  {
   "cell_type": "code",
   "execution_count": 16,
   "metadata": {},
   "outputs": [
    {
     "data": {
      "text/plain": [
       "[Mock(id='mock', args={}),\n",
       " Remote(id='remote', args={'cluster': 'login.expanse.sdsc.edu'})]"
      ]
     },
     "metadata": {},
     "output_type": "display_data"
    }
   ],
   "source": [
    "runtimes = cs.runtime.query()\n",
    "\n",
    "# always 0th index is local runtime inside\n",
    "# 0th runtime requires docker to be installed\n",
    "\n",
    "display(runtimes)"
   ]
  },
  {
   "cell_type": "code",
   "execution_count": 17,
   "metadata": {},
   "outputs": [],
   "source": [
    "# choose between any replicas user has access to\n",
    "# exp.add_replica(*runtimes)\n",
    "\n",
    "# OR choose any replica that is not local\n",
    "# exp.add_replica(*runtimes[1:])\n",
    "# exp.add_replica(*runtimes[1:])\n",
    "\n",
    "# OR use only a specific replica\n",
    "# exp.add_replica(runtimes[1])"
   ]
  },
  {
   "cell_type": "markdown",
   "metadata": {},
   "source": [
    "## Create Execution Plan\n",
    "\n",
    "To create an execution plan for the experiment, use the `plan()` method of the `exp` object. This method will generate a plan for the experiment, which can then be described using the `describe()` method. The code to create and describe the plan is shown below:"
   ]
  },
  {
   "cell_type": "code",
   "execution_count": 18,
   "metadata": {},
   "outputs": [
    {
     "name": "stdout",
     "output_type": "stream",
     "text": [
      "Task(name=yasith_namd_experiment_F45B, app_id=NAMD, inputs={'MD-Instructions-Input': 'data/pull.conf', 'Coordinates-PDB-File': 'data/structure.pdb', 'Protein-Structure-File_PSF': 'data/structure.psf', 'FF-Parameter-Files': ['data/par_all36_water.prm', 'data/par_all36m_prot.prm'], 'Execution_Type': 'CPU', 'Optional_Inputs': ['data/b4pull.pdb', 'data/b4pull.restart.coor', 'data/b4pull.restart.vel', 'data/b4pull.restart.xsc'], 'Number of Replicas': 1}, runtime=Remote(args={'cluster': 'login.expanse.sdsc.edu'}))\n"
     ]
    }
   ],
   "source": [
    "plan = exp.plan()  # this will create a plan for the experiment\n",
    "plan.describe()  # this will describe the plan\n",
    "plan.save_json(\"plan.json\")  # save the plan state"
   ]
  },
  {
   "cell_type": "markdown",
   "metadata": {},
   "source": [
    "## Execute the Plan"
   ]
  },
  {
   "cell_type": "code",
   "execution_count": 19,
   "metadata": {},
   "outputs": [
    {
     "name": "stdout",
     "output_type": "stream",
     "text": [
      "Preparing execution plan...\n",
      "Task(name=yasith_namd_experiment_F45B, app_id=NAMD, inputs={'MD-Instructions-Input': 'data/pull.conf', 'Coordinates-PDB-File': 'data/structure.pdb', 'Protein-Structure-File_PSF': 'data/structure.psf', 'FF-Parameter-Files': ['data/par_all36_water.prm', 'data/par_all36m_prot.prm'], 'Execution_Type': 'CPU', 'Optional_Inputs': ['data/b4pull.pdb', 'data/b4pull.restart.coor', 'data/b4pull.restart.vel', 'data/b4pull.restart.xsc'], 'Number of Replicas': 1}, runtime=Remote(args={'cluster': 'login.expanse.sdsc.edu'}))\n",
      "Confirming execution plan...\n",
      "Launching tasks...\n",
      "[Task] Executing yasith_namd_experiment_F45B on Remote(args={'cluster': 'login.expanse.sdsc.edu'})\n",
      "[Remote] Experiment Created: name=yasith_namd_experiment_F45B\n",
      "[AV] Preprocessing args...\n",
      "[AV] Validating args...\n",
      "[AV] Setting up runtime params...\n",
      "[AV] Setting up application interface...\n",
      "[AV] Setting up experiment...\n",
      "[AV] Setting up experiment directory...\n",
      "[AV] exp_dir: /Default_Project/yasith_namd_experiment_F45B_2024_12_02_22_46_25\n",
      "[AV] abs_path: /var/www/portals/gateway-user-data/iguide-cybershuttle/pjaya001@odu.edu/Default_Project/yasith_namd_experiment_F45B_2024_12_02_22_46_25/\n",
      "[AV] Setting up file inputs...\n",
      "[AV] Uploading file inputs for experiment...\n"
     ]
    },
    {
     "data": {
      "application/vnd.jupyter.widget-view+json": {
       "model_id": "6cc38b9e8df9413d8ec76c8a40682980",
       "version_major": 2,
       "version_minor": 0
      },
      "text/plain": [
       "Output()"
      ]
     },
     "metadata": {},
     "output_type": "display_data"
    },
    {
     "data": {
      "text/html": [
       "<pre style=\"white-space:pre;overflow-x:auto;line-height:normal;font-family:Menlo,'DejaVu Sans Mono',consolas,'Courier New',monospace\"></pre>\n"
      ],
      "text/plain": []
     },
     "metadata": {},
     "output_type": "display_data"
    },
    {
     "name": "stdout",
     "output_type": "stream",
     "text": [
      "[Remote] Experiment Launched: id=yasith_namd_experiment_F45B_ccccfc7d-baee-40dd-b453-c011d228ffa2\n"
     ]
    }
   ],
   "source": [
    "plan = cs.plan.Plan.load_json(\"plan.json\")\n",
    "plan.launch()\n",
    "plan.save_json(\"plan.json\")  # save the plan state"
   ]
  },
  {
   "cell_type": "markdown",
   "metadata": {},
   "source": [
    "## Option A - Wait for Completion"
   ]
  },
  {
   "cell_type": "code",
   "execution_count": 8,
   "metadata": {},
   "outputs": [
    {
     "name": "stdout",
     "output_type": "stream",
     "text": [
      "Task(name=yasith_namd_experiment_F45B, app_id=NAMD, inputs={'MD-Instructions-Input': 'data/pull.conf', 'Coordinates-PDB-File': 'data/structure.pdb', 'Protein-Structure-File_PSF': 'data/structure.psf', 'FF-Parameter-Files': ['data/par_all36_water.prm', 'data/par_all36m_prot.prm'], 'Execution_Type': 'CPU', 'Optional_Inputs': ['data/b4pull.pdb', 'data/b4pull.restart.coor', 'data/b4pull.restart.vel', 'data/b4pull.restart.xsc'], 'Number of Replicas': 1}, runtime=Remote(args={'cluster': 'login.expanse.sdsc.edu'}))\n"
     ]
    }
   ],
   "source": [
    "plan = cs.plan.Plan.load_json(\"plan.json\")\n",
    "plan.describe()"
   ]
  },
  {
   "cell_type": "markdown",
   "metadata": {},
   "source": [
    "## Option B - Terminate Execution"
   ]
  },
  {
   "cell_type": "code",
   "execution_count": 9,
   "metadata": {},
   "outputs": [
    {
     "name": "stdout",
     "output_type": "stream",
     "text": [
      "Stopping task(s)...\n",
      "Task(s) stopped.\n"
     ]
    }
   ],
   "source": [
    "plan.stop()"
   ]
  },
  {
   "cell_type": "markdown",
   "metadata": {},
   "source": [
    "## Option C - Monitor Files During Execution"
   ]
  },
  {
   "cell_type": "markdown",
   "metadata": {},
   "source": [
    "Displaying the status and files generated by each replica (task)"
   ]
  },
  {
   "cell_type": "code",
   "execution_count": 10,
   "metadata": {},
   "outputs": [
    {
     "name": "stdout",
     "output_type": "stream",
     "text": [
      "ExperimentStatus(state=0, timeOfStateChange=1733201007963, reason=None, statusId='EXPERIMENT_STATE_f3d5300c-e5bd-46ad-a8e7-0cc568b87d62') []\n"
     ]
    }
   ],
   "source": [
    "for task in plan.tasks:\n",
    "    status = task.status()\n",
    "    files = task.files()\n",
    "    print(status, files)"
   ]
  },
  {
   "cell_type": "markdown",
   "metadata": {},
   "source": [
    "Displaying the intermediate results generated by each replica (task)"
   ]
  },
  {
   "cell_type": "code",
   "execution_count": 11,
   "metadata": {},
   "outputs": [
    {
     "ename": "ModuleNotFoundError",
     "evalue": "No module named 'matplotlib'",
     "output_type": "error",
     "traceback": [
      "\u001b[0;31m---------------------------------------------------------------------------\u001b[0m",
      "\u001b[0;31mModuleNotFoundError\u001b[0m                       Traceback (most recent call last)",
      "Cell \u001b[0;32mIn[11], line 1\u001b[0m\n\u001b[0;32m----> 1\u001b[0m \u001b[38;5;28;01mfrom\u001b[39;00m \u001b[38;5;21;01mmatplotlib\u001b[39;00m \u001b[38;5;28;01mimport\u001b[39;00m pyplot \u001b[38;5;28;01mas\u001b[39;00m plt\n\u001b[1;32m      2\u001b[0m \u001b[38;5;28;01mimport\u001b[39;00m \u001b[38;5;21;01mpandas\u001b[39;00m \u001b[38;5;28;01mas\u001b[39;00m \u001b[38;5;21;01mpd\u001b[39;00m\n\u001b[1;32m      4\u001b[0m \u001b[38;5;28;01mfor\u001b[39;00m index, task \u001b[38;5;129;01min\u001b[39;00m \u001b[38;5;28menumerate\u001b[39m(plan\u001b[38;5;241m.\u001b[39mtasks):\n",
      "\u001b[0;31mModuleNotFoundError\u001b[0m: No module named 'matplotlib'"
     ]
    }
   ],
   "source": [
    "from matplotlib import pyplot as plt\n",
    "import pandas as pd\n",
    "\n",
    "for index, task in enumerate(plan.tasks):\n",
    "\n",
    "    @cs.task_context(task)\n",
    "    def visualize():\n",
    "        data = pd.read_csv(\"data.csv\")\n",
    "        plt.figure(figsize=(8, 6))\n",
    "        plt.plot(data[\"x\"], data[\"y\"], marker=\"o\", linestyle=\"-\", linewidth=2, markersize=6)\n",
    "        plt.title(f\"Plot for Replica {index} of {len(plan.tasks)}\")\n",
    "\n",
    "    visualize()"
   ]
  },
  {
   "cell_type": "code",
   "execution_count": null,
   "metadata": {},
   "outputs": [],
   "source": [
    "from cybershuttle.airavata import AiravataOperator\n",
    "\n",
    "assert token is not None\n",
    "\n",
    "av = AiravataOperator(token)\n",
    "\n",
    "# Example: get app interface id and storage resource id\n",
    "app_interface_id = av.get_app_interface_id(\"NAMD\")\n",
    "storage = av.get_storage()\n",
    "storage_resource_id = storage.storageResourceId\n",
    "display(f\"application_interface_id={app_interface_id}\")\n",
    "display(f\"storage_resource_id={storage_resource_id}\")\n",
    "\n",
    "# Example: upload files\n",
    "experiment_name = \"NAMD_MD_SDK\"\n",
    "app_name = \"NAMD\"\n",
    "hpc_name = \"login.expanse.sdsc.edu\"\n",
    "\n",
    "experiment = av.launch_experiment(\n",
    "    experiment_name=experiment_name,\n",
    "    app_name=app_name,\n",
    "    computation_resource_name=hpc_name,\n",
    "    inputs={\n",
    "        \"MD-Instructions-Input\": \"./data/pull.conf\",\n",
    "        \"Constraints-PDB-File\": \"./data/structure.pdb\",\n",
    "        \"Protein-Structure-File_PSF\": \"./data/structure.psf\",\n",
    "        \"FF-Parameter-Files\": [\n",
    "            \"./data/par_all36_water.prm\",\n",
    "            \"./data/par_all36m_prot.prm\"\n",
    "        ],\n",
    "        \"Execution_Type\": \"CPU\",\n",
    "        \"Optional_Inputs\": [\n",
    "            \"./data/b4pull.restart.xsc\",\n",
    "            \"./data/b4pull.restart.vel\",\n",
    "            \"./data/b4pull.pdb\",\n",
    "            \"./data/b4pull.restart.coor\",\n",
    "        ],\n",
    "    }\n",
    ")"
   ]
  }
 ],
 "metadata": {
  "kernelspec": {
   "display_name": "Python 3",
   "language": "python",
   "name": "python3"
  },
  "language_info": {
   "codemirror_mode": {
    "name": "ipython",
    "version": 3
   },
   "file_extension": ".py",
   "mimetype": "text/x-python",
   "name": "python",
   "nbconvert_exporter": "python",
   "pygments_lexer": "ipython3",
   "version": "3.12.7"
  }
 },
 "nbformat": 4,
 "nbformat_minor": 2
}
