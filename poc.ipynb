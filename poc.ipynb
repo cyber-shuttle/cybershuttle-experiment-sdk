{
 "cells": [
  {
   "cell_type": "markdown",
   "metadata": {},
   "source": [
    "# Cybershuttle Molecular Dynamics SDK\n",
    "\n",
    "This SDK allows users to define, plan, and execute molecular dynamics experiments with ease. In this notebook, we demonstrate how to authenticate, set up a NAMD experiment, add replicas, create an execution plan, and monitor the execution. The experiment object `exp` is an instance of `cybershuttle.base.Experiment`."
   ]
  },
  {
   "cell_type": "code",
   "execution_count": 1,
   "metadata": {},
   "outputs": [],
   "source": [
    "import cybershuttle as cs\n",
    "from cybershuttle import md"
   ]
  },
  {
   "cell_type": "markdown",
   "metadata": {},
   "source": [
    "## Authenticate for Remote Execution\n",
    "\n",
    "To authenticate for remote execution, use the `cs.auth.login()` method. This method will prompt you to enter your credentials and authenticate your session."
   ]
  },
  {
   "cell_type": "code",
   "execution_count": 2,
   "metadata": {},
   "outputs": [
    {
     "name": "stdout",
     "output_type": "stream",
     "text": [
      "User code: ICPL-EBKY\n",
      "Please authenticate by visiting: https://auth.cybershuttle.org/realms/10000000/device?user_code=ICPL-EBKY\n",
      "Waiting for authorization...\n",
      "Authorization successful!\n"
     ]
    }
   ],
   "source": [
    "cs.auth.login()\n",
    "token = cs.auth.context.access_token"
   ]
  },
  {
   "cell_type": "markdown",
   "metadata": {},
   "source": [
    "## Define a NAMD Experiment\n",
    "\n",
    "To define a NAMD experiment, we initialize an instance of the `cybershuttle.base.Experiment` class with the required parameters such as the name of the experiment, and the input PDB and PSF files. The experiment object `exp` is created as shown below:"
   ]
  },
  {
   "cell_type": "code",
   "execution_count": 3,
   "metadata": {},
   "outputs": [],
   "source": [
    "exp = md.NAMD.initialize(\n",
    "    name=\"yasith_namd_experiment\",\n",
    "    config_file=\"data/pull.conf\",\n",
    "    pdb_file=\"data/structure.pdb\",\n",
    "    psf_file=\"data/structure.psf\",\n",
    "    other_files=[\n",
    "      \"data/b4pull.pdb\",\n",
    "      \"data/b4pull.restart.coor\",\n",
    "      \"data/b4pull.restart.vel\",\n",
    "      \"data/b4pull.restart.xsc\",\n",
    "      \"data/par_all36_water.prm\",\n",
    "      \"data/par_all36_prot.prm\",\n",
    "    ]\n",
    ")"
   ]
  },
  {
   "cell_type": "markdown",
   "metadata": {},
   "source": [
    "## Add Replicas for NAMD Experiment\n",
    "\n",
    "To add replicas to the NAMD experiment, we use the `add_replica()` method of the `exp` object. This method adds a replica to the experiment. In this example, we add 4 replicas as shown below:"
   ]
  },
  {
   "cell_type": "code",
   "execution_count": 4,
   "metadata": {},
   "outputs": [],
   "source": [
    "for _ in range(4):\n",
    "  exp.add_replica()"
   ]
  },
  {
   "cell_type": "markdown",
   "metadata": {},
   "source": [
    "## Create Execution Plan\n",
    "\n",
    "To create an execution plan for the experiment, use the `plan()` method of the `exp` object. This method will generate a plan for the experiment, which can then be described using the `describe()` method. The code to create and describe the plan is shown below:"
   ]
  },
  {
   "cell_type": "code",
   "execution_count": 5,
   "metadata": {},
   "outputs": [
    {
     "name": "stdout",
     "output_type": "stream",
     "text": [
      "Task(app_id=namd, inputs={'config_file': 'data/pull.conf', 'pdb_file': 'data/structure.pdb', 'psf_file': 'data/structure.psf', 'other_files': ['data/b4pull.pdb', 'data/b4pull.restart.coor', 'data/b4pull.restart.vel', 'data/b4pull.restart.xsc', 'data/par_all36_water.prm', 'data/par_all36_prot.prm']}, runtime=Remote(args={'cluster': 'expanse', 'partition': 'shared', 'profile': 'grprsp-1'}))\n",
      "Task(app_id=namd, inputs={'config_file': 'data/pull.conf', 'pdb_file': 'data/structure.pdb', 'psf_file': 'data/structure.psf', 'other_files': ['data/b4pull.pdb', 'data/b4pull.restart.coor', 'data/b4pull.restart.vel', 'data/b4pull.restart.xsc', 'data/par_all36_water.prm', 'data/par_all36_prot.prm']}, runtime=Remote(args={'cluster': 'expanse', 'partition': 'shared', 'profile': 'grprsp-1'}))\n",
      "Task(app_id=namd, inputs={'config_file': 'data/pull.conf', 'pdb_file': 'data/structure.pdb', 'psf_file': 'data/structure.psf', 'other_files': ['data/b4pull.pdb', 'data/b4pull.restart.coor', 'data/b4pull.restart.vel', 'data/b4pull.restart.xsc', 'data/par_all36_water.prm', 'data/par_all36_prot.prm']}, runtime=Remote(args={'cluster': 'expanse', 'partition': 'shared', 'profile': 'grprsp-1'}))\n",
      "Task(app_id=namd, inputs={'config_file': 'data/pull.conf', 'pdb_file': 'data/structure.pdb', 'psf_file': 'data/structure.psf', 'other_files': ['data/b4pull.pdb', 'data/b4pull.restart.coor', 'data/b4pull.restart.vel', 'data/b4pull.restart.xsc', 'data/par_all36_water.prm', 'data/par_all36_prot.prm']}, runtime=Remote(args={'cluster': 'expanse', 'partition': 'shared', 'profile': 'grprsp-1'}))\n"
     ]
    }
   ],
   "source": [
    "plan = exp.plan()  # this will create a plan for the experiment\n",
    "plan.describe()  # this will describe the plan"
   ]
  },
  {
   "cell_type": "code",
   "execution_count": 6,
   "metadata": {},
   "outputs": [
    {
     "name": "stdout",
     "output_type": "stream",
     "text": [
      "Task(app_id=namd, inputs={'config_file': 'data/pull.conf', 'pdb_file': 'data/structure.pdb', 'psf_file': 'data/structure.psf', 'other_files': ['data/b4pull.pdb', 'data/b4pull.restart.coor', 'data/b4pull.restart.vel', 'data/b4pull.restart.xsc', 'data/par_all36_water.prm', 'data/par_all36_prot.prm']}, runtime=Remote(args={'cluster': 'expanse', 'partition': 'shared', 'profile': 'grprsp-1'}))\n",
      "Task(app_id=namd, inputs={'config_file': 'data/pull.conf', 'pdb_file': 'data/structure.pdb', 'psf_file': 'data/structure.psf', 'other_files': ['data/b4pull.pdb', 'data/b4pull.restart.coor', 'data/b4pull.restart.vel', 'data/b4pull.restart.xsc', 'data/par_all36_water.prm', 'data/par_all36_prot.prm']}, runtime=Remote(args={'cluster': 'expanse', 'partition': 'shared', 'profile': 'grprsp-1'}))\n",
      "Task(app_id=namd, inputs={'config_file': 'data/pull.conf', 'pdb_file': 'data/structure.pdb', 'psf_file': 'data/structure.psf', 'other_files': ['data/b4pull.pdb', 'data/b4pull.restart.coor', 'data/b4pull.restart.vel', 'data/b4pull.restart.xsc', 'data/par_all36_water.prm', 'data/par_all36_prot.prm']}, runtime=Remote(args={'cluster': 'expanse', 'partition': 'shared', 'profile': 'grprsp-1'}))\n",
      "Task(app_id=namd, inputs={'config_file': 'data/pull.conf', 'pdb_file': 'data/structure.pdb', 'psf_file': 'data/structure.psf', 'other_files': ['data/b4pull.pdb', 'data/b4pull.restart.coor', 'data/b4pull.restart.vel', 'data/b4pull.restart.xsc', 'data/par_all36_water.prm', 'data/par_all36_prot.prm']}, runtime=Remote(args={'cluster': 'expanse', 'partition': 'shared', 'profile': 'grprsp-1'}))\n"
     ]
    }
   ],
   "source": [
    "plan.save_json(\"plan.json\")\n",
    "plan = cs.plan.Plan.load_json(\"plan.json\")\n",
    "plan.describe()"
   ]
  },
  {
   "cell_type": "markdown",
   "metadata": {},
   "source": [
    "## Execute the Plan"
   ]
  },
  {
   "cell_type": "code",
   "execution_count": 7,
   "metadata": {},
   "outputs": [
    {
     "name": "stdout",
     "output_type": "stream",
     "text": [
      "Preparing execution plan...\n",
      "Task(app_id=namd, inputs={'config_file': 'data/pull.conf', 'pdb_file': 'data/structure.pdb', 'psf_file': 'data/structure.psf', 'other_files': ['data/b4pull.pdb', 'data/b4pull.restart.coor', 'data/b4pull.restart.vel', 'data/b4pull.restart.xsc', 'data/par_all36_water.prm', 'data/par_all36_prot.prm']}, runtime=Remote(args={'cluster': 'expanse', 'partition': 'shared', 'profile': 'grprsp-1'}))\n",
      "Task(app_id=namd, inputs={'config_file': 'data/pull.conf', 'pdb_file': 'data/structure.pdb', 'psf_file': 'data/structure.psf', 'other_files': ['data/b4pull.pdb', 'data/b4pull.restart.coor', 'data/b4pull.restart.vel', 'data/b4pull.restart.xsc', 'data/par_all36_water.prm', 'data/par_all36_prot.prm']}, runtime=Remote(args={'cluster': 'expanse', 'partition': 'shared', 'profile': 'grprsp-1'}))\n",
      "Task(app_id=namd, inputs={'config_file': 'data/pull.conf', 'pdb_file': 'data/structure.pdb', 'psf_file': 'data/structure.psf', 'other_files': ['data/b4pull.pdb', 'data/b4pull.restart.coor', 'data/b4pull.restart.vel', 'data/b4pull.restart.xsc', 'data/par_all36_water.prm', 'data/par_all36_prot.prm']}, runtime=Remote(args={'cluster': 'expanse', 'partition': 'shared', 'profile': 'grprsp-1'}))\n",
      "Task(app_id=namd, inputs={'config_file': 'data/pull.conf', 'pdb_file': 'data/structure.pdb', 'psf_file': 'data/structure.psf', 'other_files': ['data/b4pull.pdb', 'data/b4pull.restart.coor', 'data/b4pull.restart.vel', 'data/b4pull.restart.xsc', 'data/par_all36_water.prm', 'data/par_all36_prot.prm']}, runtime=Remote(args={'cluster': 'expanse', 'partition': 'shared', 'profile': 'grprsp-1'}))\n",
      "Confirming execution plan...\n"
     ]
    },
    {
     "name": "stderr",
     "output_type": "stream",
     "text": [
      "using legacy validation callback\n"
     ]
    },
    {
     "name": "stdout",
     "output_type": "stream",
     "text": [
      "Starting tasks...\n",
      "{'project_name': 'Default Project', 'app_name': 'namd', 'experiment_name': 'NAMD_from_md_sdk', 'experiment_description': 'Testing MD-SDK for December Workshop', 'resource_host_name': 'login.expanse.sdsc.edu', 'group_resource_profile_name': 'Default', 'storage_resource_name': 'iguide-cybershuttle.che070035.projects.jetstream-cloud.org', 'node_count': 1, 'total_cpu_count': 16, 'wall_time_limit': 15, 'queue_name': 'shared', 'gateway_id': 'default'}\n",
      "{'configuration_file_location': '/Users/yasith/projects/artisan/cybershuttle-experiment-sdk/settings.ini', 'username': 'pjaya001@odu.edu', 'password': None, 'gateway_id': 'default', 'access_token': 'eyJhbGciOiJSUzI1NiIsInR5cCIgOiAiSldUIiwia2lkIiA6ICJCTlVjenNJd1Q4ZkdGa2d0MnFjMGR2cXJPTWtiQ01FU1pfa2xpQUtLb2UwIn0.eyJleHAiOjE3MzI1NTQ2ODYsImlhdCI6MTczMjU0NzQ4NiwiYXV0aF90aW1lIjoxNzMyNTQxOTg1LCJqdGkiOiJkZWYwM2E4YS0yMDJlLTRiN2EtYjUyMi0yZTAwZjdkZjI3MzkiLCJpc3MiOiJodHRwczovL2F1dGguY3liZXJzaHV0dGxlLm9yZy9yZWFsbXMvMTAwMDAwMDAiLCJhdWQiOlsiYnJva2VyIiwiYWNjb3VudCJdLCJzdWIiOiJjNDQ5ZGJhYi0zNjQ5LTRmMWYtOWY3Yy0wNjZmZTI2Yzc5NmUiLCJ0eXAiOiJCZWFyZXIiLCJhenAiOiJjeWJlcnNodXR0bGUtYWdlbnQiLCJzZXNzaW9uX3N0YXRlIjoiYjA4MWE5MDUtZjRiYi00ODVlLWI4NTMtN2FiMGQ1NWRkMTc1IiwiYWNyIjoiMCIsImFsbG93ZWQtb3JpZ2lucyI6WyIvKiJdLCJyZWFsbV9hY2Nlc3MiOnsicm9sZXMiOlsiZGVmYXVsdC1yb2xlcy0xMDAwMDAwMCIsIm9mZmxpbmVfYWNjZXNzIiwidW1hX2F1dGhvcml6YXRpb24iXX0sInJlc291cmNlX2FjY2VzcyI6eyJicm9rZXIiOnsicm9sZXMiOlsicmVhZC10b2tlbiJdfSwiYWNjb3VudCI6eyJyb2xlcyI6WyJtYW5hZ2UtYWNjb3VudCIsIm1hbmFnZS1hY2NvdW50LWxpbmtzIiwidmlldy1wcm9maWxlIl19fSwic2NvcGUiOiJvcGVuaWQgZW1haWwgcHJvZmlsZSIsInNpZCI6ImIwODFhOTA1LWY0YmItNDg1ZS1iODUzLTdhYjBkNTVkZDE3NSIsImVtYWlsX3ZlcmlmaWVkIjp0cnVlLCJuYW1lIjoiWWFzaXRoIEpheWF3YXJkYW5hIiwicHJlZmVycmVkX3VzZXJuYW1lIjoicGpheWEwMDFAb2R1LmVkdSIsImdpdmVuX25hbWUiOiJZYXNpdGgiLCJmYW1pbHlfbmFtZSI6IkpheWF3YXJkYW5hIiwiZW1haWwiOiJwamF5YTAwMUBvZHUuZWR1In0.HZLJI4a1sbLsAlAWfcT-u6spB9mjAwIXN9RDR5HuPuANy7_TVlb3cgAQCjCFuLq6o5KhDqmu2iUXt6gdCF9TxNBKbcoKyfD7FzLnfWaW0qGoPTcBwMzpsnU7_2dtPHkte2HC95gDcws5-jWVZBaVACEACa8VZIaBlJrNFz22p8eK1P9XlCJNv1SsDuQIC8gVmDiv-aQhH2y2uJYQDw1y9x20caOaNelDIgI8wVsygAQbKgYcUETjLUg2ETm3M2QChPrXeSaHy6u9CcpscfYuX7bGxNZ_jt5yhf1y4uGiyDGX-ulqyJuqIUiMcbgLjAdjQrRg6PX_mADCXJ77XQOgZg'}\n"
     ]
    },
    {
     "name": "stderr",
     "output_type": "stream",
     "text": [
      "/Users/yasith/.mamba/envs/cybershuttle-exp/lib/python3.12/site-packages/thrift/transport/TSSLSocket.py:53: DeprecationWarning: ssl.PROTOCOL_TLS is deprecated\n",
      "  self._context = ssl.SSLContext(ssl_version)\n"
     ]
    },
    {
     "name": "stdout",
     "output_type": "stream",
     "text": [
      "{'projectId': 'Default_Project_9b70e129-08fc-46ca-a6ce-d24ca46482cb', 'resourceHostId': 'expanse_34f71d6b-765d-4bff-be2e-30a74f5c8c32', 'queue_names': ['gpu-shared', 'shared'], 'groupResourceProfileId': '02881ab4-51c6-462d-a4dd-1b3a0d0fa921', 'storageId': 'js-iguide-cybershuttle.che070035.projects.jetstream-cloud.org_9c15d8af-3d36-4c3c-a07a-0f3b4bb5b903'}\n",
      "StoragePreference(storageResourceId='js-iguide-cybershuttle.che070035.projects.jetstream-cloud.org_9c15d8af-3d36-4c3c-a07a-0f3b4bb5b903', loginUserName='pga', fileSystemRootLocation='/var/www/portals/gateway-user-data/10000000', resourceSpecificCredentialStoreToken='46a99a5a-8b55-4982-bfd7-90fe72b00d46')\n",
      "Copying data to compute resource:  {'config_file': 'data/pull.conf', 'pdb_file': 'data/structure.pdb', 'psf_file': 'data/structure.psf', 'other_files': ['data/b4pull.pdb', 'data/b4pull.restart.coor', 'data/b4pull.restart.vel', 'data/b4pull.restart.xsc', 'data/par_all36_water.prm', 'data/par_all36_prot.prm']}\n",
      "structure.pdb -> /home/exouser/Default_Project/NAMD_from_md_sdk_2024_11_25_09_11_45/structure.pdb\n",
      "structure.psf -> /home/exouser/Default_Project/NAMD_from_md_sdk_2024_11_25_09_11_45/structure.psf\n",
      "b4pull.pdb -> /home/exouser/Default_Project/NAMD_from_md_sdk_2024_11_25_09_11_45/b4pull.pdb\n",
      "b4pull.restart.xsc -> /home/exouser/Default_Project/NAMD_from_md_sdk_2024_11_25_09_11_45/b4pull.restart.xsc\n",
      "par_all36_water.prm -> /home/exouser/Default_Project/NAMD_from_md_sdk_2024_11_25_09_11_45/par_all36_water.prm\n",
      "b4pull.restart.coor -> /home/exouser/Default_Project/NAMD_from_md_sdk_2024_11_25_09_11_45/b4pull.restart.coor\n",
      "pull.conf -> /home/exouser/Default_Project/NAMD_from_md_sdk_2024_11_25_09_11_45/pull.conf\n",
      "b4pull.restart.vel -> /home/exouser/Default_Project/NAMD_from_md_sdk_2024_11_25_09_11_45/b4pull.restart.vel\n",
      "par_all36m_prot.prm -> /home/exouser/Default_Project/NAMD_from_md_sdk_2024_11_25_09_11_45/par_all36m_prot.prm\n",
      "Executing app_id=namd on Remote: {'cluster': 'expanse', 'partition': 'shared', 'profile': 'grprsp-1'}\n",
      "{'experimentId': 'DO_NOT_SET_AT_CLIENTS', 'projectId': 'Default_Project_9b70e129-08fc-46ca-a6ce-d24ca46482cb', 'gatewayId': 'default', 'experimentType': 0, 'userName': 'pjaya001@odu.edu', 'experimentName': 'NAMD_from_md_sdk', 'creationTime': None, 'description': 'Testing MD-SDK for December Workshop', 'executionId': None, 'gatewayExecutionId': None, 'gatewayInstanceId': None, 'enableEmailNotification': None, 'emailAddresses': None, 'userConfigurationData': UserConfigurationDataModel(airavataAutoSchedule=False, overrideManualScheduledParams=False, shareExperimentPublicly=False, computationalResourceScheduling=ComputationalResourceSchedulingModel(resourceHostId='expanse_34f71d6b-765d-4bff-be2e-30a74f5c8c32', totalCPUCount=16, nodeCount=1, numberOfThreads=None, queueName='shared', wallTimeLimit=15, totalPhysicalMemory=None, chessisNumber=None, staticWorkingDir=None, overrideLoginUserName=None, overrideScratchLocation=None, overrideAllocationProjectNumber=None, mGroupCount=None), throttleResources=False, userDN=None, generateCert=False, storageId='js-iguide-cybershuttle.che070035.projects.jetstream-cloud.org_9c15d8af-3d36-4c3c-a07a-0f3b4bb5b903', experimentDataDir='/home/exouser/Default_Project/NAMD_from_md_sdk_2024_11_25_09_11_45', useUserCRPref=None, groupResourceProfileId='02881ab4-51c6-462d-a4dd-1b3a0d0fa921', autoScheduledCompResourceSchedulingList=None), 'experimentInputs': None, 'experimentOutputs': None, 'experimentStatus': None, 'errors': None, 'processes': None, 'workflow': None}\n",
      "Assigned exec_id=12345 to task\n",
      "{'project_name': 'Default Project', 'app_name': 'namd', 'experiment_name': 'NAMD_from_md_sdk', 'experiment_description': 'Testing MD-SDK for December Workshop', 'resource_host_name': 'login.expanse.sdsc.edu', 'group_resource_profile_name': 'Default', 'storage_resource_name': 'iguide-cybershuttle.che070035.projects.jetstream-cloud.org', 'node_count': 1, 'total_cpu_count': 16, 'wall_time_limit': 15, 'queue_name': 'shared', 'gateway_id': 'default'}\n",
      "{'configuration_file_location': '/Users/yasith/projects/artisan/cybershuttle-experiment-sdk/settings.ini', 'username': 'pjaya001@odu.edu', 'password': None, 'gateway_id': 'default', 'access_token': 'eyJhbGciOiJSUzI1NiIsInR5cCIgOiAiSldUIiwia2lkIiA6ICJCTlVjenNJd1Q4ZkdGa2d0MnFjMGR2cXJPTWtiQ01FU1pfa2xpQUtLb2UwIn0.eyJleHAiOjE3MzI1NTQ2ODYsImlhdCI6MTczMjU0NzQ4NiwiYXV0aF90aW1lIjoxNzMyNTQxOTg1LCJqdGkiOiJkZWYwM2E4YS0yMDJlLTRiN2EtYjUyMi0yZTAwZjdkZjI3MzkiLCJpc3MiOiJodHRwczovL2F1dGguY3liZXJzaHV0dGxlLm9yZy9yZWFsbXMvMTAwMDAwMDAiLCJhdWQiOlsiYnJva2VyIiwiYWNjb3VudCJdLCJzdWIiOiJjNDQ5ZGJhYi0zNjQ5LTRmMWYtOWY3Yy0wNjZmZTI2Yzc5NmUiLCJ0eXAiOiJCZWFyZXIiLCJhenAiOiJjeWJlcnNodXR0bGUtYWdlbnQiLCJzZXNzaW9uX3N0YXRlIjoiYjA4MWE5MDUtZjRiYi00ODVlLWI4NTMtN2FiMGQ1NWRkMTc1IiwiYWNyIjoiMCIsImFsbG93ZWQtb3JpZ2lucyI6WyIvKiJdLCJyZWFsbV9hY2Nlc3MiOnsicm9sZXMiOlsiZGVmYXVsdC1yb2xlcy0xMDAwMDAwMCIsIm9mZmxpbmVfYWNjZXNzIiwidW1hX2F1dGhvcml6YXRpb24iXX0sInJlc291cmNlX2FjY2VzcyI6eyJicm9rZXIiOnsicm9sZXMiOlsicmVhZC10b2tlbiJdfSwiYWNjb3VudCI6eyJyb2xlcyI6WyJtYW5hZ2UtYWNjb3VudCIsIm1hbmFnZS1hY2NvdW50LWxpbmtzIiwidmlldy1wcm9maWxlIl19fSwic2NvcGUiOiJvcGVuaWQgZW1haWwgcHJvZmlsZSIsInNpZCI6ImIwODFhOTA1LWY0YmItNDg1ZS1iODUzLTdhYjBkNTVkZDE3NSIsImVtYWlsX3ZlcmlmaWVkIjp0cnVlLCJuYW1lIjoiWWFzaXRoIEpheWF3YXJkYW5hIiwicHJlZmVycmVkX3VzZXJuYW1lIjoicGpheWEwMDFAb2R1LmVkdSIsImdpdmVuX25hbWUiOiJZYXNpdGgiLCJmYW1pbHlfbmFtZSI6IkpheWF3YXJkYW5hIiwiZW1haWwiOiJwamF5YTAwMUBvZHUuZWR1In0.HZLJI4a1sbLsAlAWfcT-u6spB9mjAwIXN9RDR5HuPuANy7_TVlb3cgAQCjCFuLq6o5KhDqmu2iUXt6gdCF9TxNBKbcoKyfD7FzLnfWaW0qGoPTcBwMzpsnU7_2dtPHkte2HC95gDcws5-jWVZBaVACEACa8VZIaBlJrNFz22p8eK1P9XlCJNv1SsDuQIC8gVmDiv-aQhH2y2uJYQDw1y9x20caOaNelDIgI8wVsygAQbKgYcUETjLUg2ETm3M2QChPrXeSaHy6u9CcpscfYuX7bGxNZ_jt5yhf1y4uGiyDGX-ulqyJuqIUiMcbgLjAdjQrRg6PX_mADCXJ77XQOgZg'}\n",
      "{'projectId': 'Default_Project_9b70e129-08fc-46ca-a6ce-d24ca46482cb', 'resourceHostId': 'expanse_34f71d6b-765d-4bff-be2e-30a74f5c8c32', 'queue_names': ['gpu-shared', 'shared'], 'groupResourceProfileId': '02881ab4-51c6-462d-a4dd-1b3a0d0fa921', 'storageId': 'js-iguide-cybershuttle.che070035.projects.jetstream-cloud.org_9c15d8af-3d36-4c3c-a07a-0f3b4bb5b903'}\n",
      "StoragePreference(storageResourceId='js-iguide-cybershuttle.che070035.projects.jetstream-cloud.org_9c15d8af-3d36-4c3c-a07a-0f3b4bb5b903', loginUserName='pga', fileSystemRootLocation='/var/www/portals/gateway-user-data/10000000', resourceSpecificCredentialStoreToken='46a99a5a-8b55-4982-bfd7-90fe72b00d46')\n",
      "Copying data to compute resource:  {'config_file': 'data/pull.conf', 'pdb_file': 'data/structure.pdb', 'psf_file': 'data/structure.psf', 'other_files': ['data/b4pull.pdb', 'data/b4pull.restart.coor', 'data/b4pull.restart.vel', 'data/b4pull.restart.xsc', 'data/par_all36_water.prm', 'data/par_all36_prot.prm']}\n",
      "structure.pdb -> /home/exouser/Default_Project/NAMD_from_md_sdk_2024_11_25_09_11_57/structure.pdb\n",
      "structure.psf -> /home/exouser/Default_Project/NAMD_from_md_sdk_2024_11_25_09_11_57/structure.psf\n",
      "b4pull.pdb -> /home/exouser/Default_Project/NAMD_from_md_sdk_2024_11_25_09_11_57/b4pull.pdb\n",
      "b4pull.restart.xsc -> /home/exouser/Default_Project/NAMD_from_md_sdk_2024_11_25_09_11_57/b4pull.restart.xsc\n",
      "par_all36_water.prm -> /home/exouser/Default_Project/NAMD_from_md_sdk_2024_11_25_09_11_57/par_all36_water.prm\n",
      "b4pull.restart.coor -> /home/exouser/Default_Project/NAMD_from_md_sdk_2024_11_25_09_11_57/b4pull.restart.coor\n",
      "pull.conf -> /home/exouser/Default_Project/NAMD_from_md_sdk_2024_11_25_09_11_57/pull.conf\n",
      "b4pull.restart.vel -> /home/exouser/Default_Project/NAMD_from_md_sdk_2024_11_25_09_11_57/b4pull.restart.vel\n",
      "par_all36m_prot.prm -> /home/exouser/Default_Project/NAMD_from_md_sdk_2024_11_25_09_11_57/par_all36m_prot.prm\n",
      "Executing app_id=namd on Remote: {'cluster': 'expanse', 'partition': 'shared', 'profile': 'grprsp-1'}\n",
      "{'experimentId': 'DO_NOT_SET_AT_CLIENTS', 'projectId': 'Default_Project_9b70e129-08fc-46ca-a6ce-d24ca46482cb', 'gatewayId': 'default', 'experimentType': 0, 'userName': 'pjaya001@odu.edu', 'experimentName': 'NAMD_from_md_sdk', 'creationTime': None, 'description': 'Testing MD-SDK for December Workshop', 'executionId': None, 'gatewayExecutionId': None, 'gatewayInstanceId': None, 'enableEmailNotification': None, 'emailAddresses': None, 'userConfigurationData': UserConfigurationDataModel(airavataAutoSchedule=False, overrideManualScheduledParams=False, shareExperimentPublicly=False, computationalResourceScheduling=ComputationalResourceSchedulingModel(resourceHostId='expanse_34f71d6b-765d-4bff-be2e-30a74f5c8c32', totalCPUCount=16, nodeCount=1, numberOfThreads=None, queueName='shared', wallTimeLimit=15, totalPhysicalMemory=None, chessisNumber=None, staticWorkingDir=None, overrideLoginUserName=None, overrideScratchLocation=None, overrideAllocationProjectNumber=None, mGroupCount=None), throttleResources=False, userDN=None, generateCert=False, storageId='js-iguide-cybershuttle.che070035.projects.jetstream-cloud.org_9c15d8af-3d36-4c3c-a07a-0f3b4bb5b903', experimentDataDir='/home/exouser/Default_Project/NAMD_from_md_sdk_2024_11_25_09_11_57', useUserCRPref=None, groupResourceProfileId='02881ab4-51c6-462d-a4dd-1b3a0d0fa921', autoScheduledCompResourceSchedulingList=None), 'experimentInputs': None, 'experimentOutputs': None, 'experimentStatus': None, 'errors': None, 'processes': None, 'workflow': None}\n",
      "Assigned exec_id=12345 to task\n",
      "{'project_name': 'Default Project', 'app_name': 'namd', 'experiment_name': 'NAMD_from_md_sdk', 'experiment_description': 'Testing MD-SDK for December Workshop', 'resource_host_name': 'login.expanse.sdsc.edu', 'group_resource_profile_name': 'Default', 'storage_resource_name': 'iguide-cybershuttle.che070035.projects.jetstream-cloud.org', 'node_count': 1, 'total_cpu_count': 16, 'wall_time_limit': 15, 'queue_name': 'shared', 'gateway_id': 'default'}\n",
      "{'configuration_file_location': '/Users/yasith/projects/artisan/cybershuttle-experiment-sdk/settings.ini', 'username': 'pjaya001@odu.edu', 'password': None, 'gateway_id': 'default', 'access_token': 'eyJhbGciOiJSUzI1NiIsInR5cCIgOiAiSldUIiwia2lkIiA6ICJCTlVjenNJd1Q4ZkdGa2d0MnFjMGR2cXJPTWtiQ01FU1pfa2xpQUtLb2UwIn0.eyJleHAiOjE3MzI1NTQ2ODYsImlhdCI6MTczMjU0NzQ4NiwiYXV0aF90aW1lIjoxNzMyNTQxOTg1LCJqdGkiOiJkZWYwM2E4YS0yMDJlLTRiN2EtYjUyMi0yZTAwZjdkZjI3MzkiLCJpc3MiOiJodHRwczovL2F1dGguY3liZXJzaHV0dGxlLm9yZy9yZWFsbXMvMTAwMDAwMDAiLCJhdWQiOlsiYnJva2VyIiwiYWNjb3VudCJdLCJzdWIiOiJjNDQ5ZGJhYi0zNjQ5LTRmMWYtOWY3Yy0wNjZmZTI2Yzc5NmUiLCJ0eXAiOiJCZWFyZXIiLCJhenAiOiJjeWJlcnNodXR0bGUtYWdlbnQiLCJzZXNzaW9uX3N0YXRlIjoiYjA4MWE5MDUtZjRiYi00ODVlLWI4NTMtN2FiMGQ1NWRkMTc1IiwiYWNyIjoiMCIsImFsbG93ZWQtb3JpZ2lucyI6WyIvKiJdLCJyZWFsbV9hY2Nlc3MiOnsicm9sZXMiOlsiZGVmYXVsdC1yb2xlcy0xMDAwMDAwMCIsIm9mZmxpbmVfYWNjZXNzIiwidW1hX2F1dGhvcml6YXRpb24iXX0sInJlc291cmNlX2FjY2VzcyI6eyJicm9rZXIiOnsicm9sZXMiOlsicmVhZC10b2tlbiJdfSwiYWNjb3VudCI6eyJyb2xlcyI6WyJtYW5hZ2UtYWNjb3VudCIsIm1hbmFnZS1hY2NvdW50LWxpbmtzIiwidmlldy1wcm9maWxlIl19fSwic2NvcGUiOiJvcGVuaWQgZW1haWwgcHJvZmlsZSIsInNpZCI6ImIwODFhOTA1LWY0YmItNDg1ZS1iODUzLTdhYjBkNTVkZDE3NSIsImVtYWlsX3ZlcmlmaWVkIjp0cnVlLCJuYW1lIjoiWWFzaXRoIEpheWF3YXJkYW5hIiwicHJlZmVycmVkX3VzZXJuYW1lIjoicGpheWEwMDFAb2R1LmVkdSIsImdpdmVuX25hbWUiOiJZYXNpdGgiLCJmYW1pbHlfbmFtZSI6IkpheWF3YXJkYW5hIiwiZW1haWwiOiJwamF5YTAwMUBvZHUuZWR1In0.HZLJI4a1sbLsAlAWfcT-u6spB9mjAwIXN9RDR5HuPuANy7_TVlb3cgAQCjCFuLq6o5KhDqmu2iUXt6gdCF9TxNBKbcoKyfD7FzLnfWaW0qGoPTcBwMzpsnU7_2dtPHkte2HC95gDcws5-jWVZBaVACEACa8VZIaBlJrNFz22p8eK1P9XlCJNv1SsDuQIC8gVmDiv-aQhH2y2uJYQDw1y9x20caOaNelDIgI8wVsygAQbKgYcUETjLUg2ETm3M2QChPrXeSaHy6u9CcpscfYuX7bGxNZ_jt5yhf1y4uGiyDGX-ulqyJuqIUiMcbgLjAdjQrRg6PX_mADCXJ77XQOgZg'}\n",
      "{'projectId': 'Default_Project_9b70e129-08fc-46ca-a6ce-d24ca46482cb', 'resourceHostId': 'expanse_34f71d6b-765d-4bff-be2e-30a74f5c8c32', 'queue_names': ['gpu-shared', 'shared'], 'groupResourceProfileId': '02881ab4-51c6-462d-a4dd-1b3a0d0fa921', 'storageId': 'js-iguide-cybershuttle.che070035.projects.jetstream-cloud.org_9c15d8af-3d36-4c3c-a07a-0f3b4bb5b903'}\n",
      "StoragePreference(storageResourceId='js-iguide-cybershuttle.che070035.projects.jetstream-cloud.org_9c15d8af-3d36-4c3c-a07a-0f3b4bb5b903', loginUserName='pga', fileSystemRootLocation='/var/www/portals/gateway-user-data/10000000', resourceSpecificCredentialStoreToken='46a99a5a-8b55-4982-bfd7-90fe72b00d46')\n",
      "Copying data to compute resource:  {'config_file': 'data/pull.conf', 'pdb_file': 'data/structure.pdb', 'psf_file': 'data/structure.psf', 'other_files': ['data/b4pull.pdb', 'data/b4pull.restart.coor', 'data/b4pull.restart.vel', 'data/b4pull.restart.xsc', 'data/par_all36_water.prm', 'data/par_all36_prot.prm']}\n",
      "structure.pdb -> /home/exouser/Default_Project/NAMD_from_md_sdk_2024_11_25_09_12_09/structure.pdb\n",
      "structure.psf -> /home/exouser/Default_Project/NAMD_from_md_sdk_2024_11_25_09_12_09/structure.psf\n",
      "b4pull.pdb -> /home/exouser/Default_Project/NAMD_from_md_sdk_2024_11_25_09_12_09/b4pull.pdb\n",
      "b4pull.restart.xsc -> /home/exouser/Default_Project/NAMD_from_md_sdk_2024_11_25_09_12_09/b4pull.restart.xsc\n",
      "par_all36_water.prm -> /home/exouser/Default_Project/NAMD_from_md_sdk_2024_11_25_09_12_09/par_all36_water.prm\n",
      "b4pull.restart.coor -> /home/exouser/Default_Project/NAMD_from_md_sdk_2024_11_25_09_12_09/b4pull.restart.coor\n",
      "pull.conf -> /home/exouser/Default_Project/NAMD_from_md_sdk_2024_11_25_09_12_09/pull.conf\n",
      "b4pull.restart.vel -> /home/exouser/Default_Project/NAMD_from_md_sdk_2024_11_25_09_12_09/b4pull.restart.vel\n",
      "par_all36m_prot.prm -> /home/exouser/Default_Project/NAMD_from_md_sdk_2024_11_25_09_12_09/par_all36m_prot.prm\n",
      "Executing app_id=namd on Remote: {'cluster': 'expanse', 'partition': 'shared', 'profile': 'grprsp-1'}\n",
      "{'experimentId': 'DO_NOT_SET_AT_CLIENTS', 'projectId': 'Default_Project_9b70e129-08fc-46ca-a6ce-d24ca46482cb', 'gatewayId': 'default', 'experimentType': 0, 'userName': 'pjaya001@odu.edu', 'experimentName': 'NAMD_from_md_sdk', 'creationTime': None, 'description': 'Testing MD-SDK for December Workshop', 'executionId': None, 'gatewayExecutionId': None, 'gatewayInstanceId': None, 'enableEmailNotification': None, 'emailAddresses': None, 'userConfigurationData': UserConfigurationDataModel(airavataAutoSchedule=False, overrideManualScheduledParams=False, shareExperimentPublicly=False, computationalResourceScheduling=ComputationalResourceSchedulingModel(resourceHostId='expanse_34f71d6b-765d-4bff-be2e-30a74f5c8c32', totalCPUCount=16, nodeCount=1, numberOfThreads=None, queueName='shared', wallTimeLimit=15, totalPhysicalMemory=None, chessisNumber=None, staticWorkingDir=None, overrideLoginUserName=None, overrideScratchLocation=None, overrideAllocationProjectNumber=None, mGroupCount=None), throttleResources=False, userDN=None, generateCert=False, storageId='js-iguide-cybershuttle.che070035.projects.jetstream-cloud.org_9c15d8af-3d36-4c3c-a07a-0f3b4bb5b903', experimentDataDir='/home/exouser/Default_Project/NAMD_from_md_sdk_2024_11_25_09_12_09', useUserCRPref=None, groupResourceProfileId='02881ab4-51c6-462d-a4dd-1b3a0d0fa921', autoScheduledCompResourceSchedulingList=None), 'experimentInputs': None, 'experimentOutputs': None, 'experimentStatus': None, 'errors': None, 'processes': None, 'workflow': None}\n",
      "Assigned exec_id=12345 to task\n",
      "{'project_name': 'Default Project', 'app_name': 'namd', 'experiment_name': 'NAMD_from_md_sdk', 'experiment_description': 'Testing MD-SDK for December Workshop', 'resource_host_name': 'login.expanse.sdsc.edu', 'group_resource_profile_name': 'Default', 'storage_resource_name': 'iguide-cybershuttle.che070035.projects.jetstream-cloud.org', 'node_count': 1, 'total_cpu_count': 16, 'wall_time_limit': 15, 'queue_name': 'shared', 'gateway_id': 'default'}\n",
      "{'configuration_file_location': '/Users/yasith/projects/artisan/cybershuttle-experiment-sdk/settings.ini', 'username': 'pjaya001@odu.edu', 'password': None, 'gateway_id': 'default', 'access_token': 'eyJhbGciOiJSUzI1NiIsInR5cCIgOiAiSldUIiwia2lkIiA6ICJCTlVjenNJd1Q4ZkdGa2d0MnFjMGR2cXJPTWtiQ01FU1pfa2xpQUtLb2UwIn0.eyJleHAiOjE3MzI1NTQ2ODYsImlhdCI6MTczMjU0NzQ4NiwiYXV0aF90aW1lIjoxNzMyNTQxOTg1LCJqdGkiOiJkZWYwM2E4YS0yMDJlLTRiN2EtYjUyMi0yZTAwZjdkZjI3MzkiLCJpc3MiOiJodHRwczovL2F1dGguY3liZXJzaHV0dGxlLm9yZy9yZWFsbXMvMTAwMDAwMDAiLCJhdWQiOlsiYnJva2VyIiwiYWNjb3VudCJdLCJzdWIiOiJjNDQ5ZGJhYi0zNjQ5LTRmMWYtOWY3Yy0wNjZmZTI2Yzc5NmUiLCJ0eXAiOiJCZWFyZXIiLCJhenAiOiJjeWJlcnNodXR0bGUtYWdlbnQiLCJzZXNzaW9uX3N0YXRlIjoiYjA4MWE5MDUtZjRiYi00ODVlLWI4NTMtN2FiMGQ1NWRkMTc1IiwiYWNyIjoiMCIsImFsbG93ZWQtb3JpZ2lucyI6WyIvKiJdLCJyZWFsbV9hY2Nlc3MiOnsicm9sZXMiOlsiZGVmYXVsdC1yb2xlcy0xMDAwMDAwMCIsIm9mZmxpbmVfYWNjZXNzIiwidW1hX2F1dGhvcml6YXRpb24iXX0sInJlc291cmNlX2FjY2VzcyI6eyJicm9rZXIiOnsicm9sZXMiOlsicmVhZC10b2tlbiJdfSwiYWNjb3VudCI6eyJyb2xlcyI6WyJtYW5hZ2UtYWNjb3VudCIsIm1hbmFnZS1hY2NvdW50LWxpbmtzIiwidmlldy1wcm9maWxlIl19fSwic2NvcGUiOiJvcGVuaWQgZW1haWwgcHJvZmlsZSIsInNpZCI6ImIwODFhOTA1LWY0YmItNDg1ZS1iODUzLTdhYjBkNTVkZDE3NSIsImVtYWlsX3ZlcmlmaWVkIjp0cnVlLCJuYW1lIjoiWWFzaXRoIEpheWF3YXJkYW5hIiwicHJlZmVycmVkX3VzZXJuYW1lIjoicGpheWEwMDFAb2R1LmVkdSIsImdpdmVuX25hbWUiOiJZYXNpdGgiLCJmYW1pbHlfbmFtZSI6IkpheWF3YXJkYW5hIiwiZW1haWwiOiJwamF5YTAwMUBvZHUuZWR1In0.HZLJI4a1sbLsAlAWfcT-u6spB9mjAwIXN9RDR5HuPuANy7_TVlb3cgAQCjCFuLq6o5KhDqmu2iUXt6gdCF9TxNBKbcoKyfD7FzLnfWaW0qGoPTcBwMzpsnU7_2dtPHkte2HC95gDcws5-jWVZBaVACEACa8VZIaBlJrNFz22p8eK1P9XlCJNv1SsDuQIC8gVmDiv-aQhH2y2uJYQDw1y9x20caOaNelDIgI8wVsygAQbKgYcUETjLUg2ETm3M2QChPrXeSaHy6u9CcpscfYuX7bGxNZ_jt5yhf1y4uGiyDGX-ulqyJuqIUiMcbgLjAdjQrRg6PX_mADCXJ77XQOgZg'}\n",
      "{'projectId': 'Default_Project_9b70e129-08fc-46ca-a6ce-d24ca46482cb', 'resourceHostId': 'expanse_34f71d6b-765d-4bff-be2e-30a74f5c8c32', 'queue_names': ['gpu-shared', 'shared'], 'groupResourceProfileId': '02881ab4-51c6-462d-a4dd-1b3a0d0fa921', 'storageId': 'js-iguide-cybershuttle.che070035.projects.jetstream-cloud.org_9c15d8af-3d36-4c3c-a07a-0f3b4bb5b903'}\n",
      "StoragePreference(storageResourceId='js-iguide-cybershuttle.che070035.projects.jetstream-cloud.org_9c15d8af-3d36-4c3c-a07a-0f3b4bb5b903', loginUserName='pga', fileSystemRootLocation='/var/www/portals/gateway-user-data/10000000', resourceSpecificCredentialStoreToken='46a99a5a-8b55-4982-bfd7-90fe72b00d46')\n",
      "Copying data to compute resource:  {'config_file': 'data/pull.conf', 'pdb_file': 'data/structure.pdb', 'psf_file': 'data/structure.psf', 'other_files': ['data/b4pull.pdb', 'data/b4pull.restart.coor', 'data/b4pull.restart.vel', 'data/b4pull.restart.xsc', 'data/par_all36_water.prm', 'data/par_all36_prot.prm']}\n",
      "structure.pdb -> /home/exouser/Default_Project/NAMD_from_md_sdk_2024_11_25_09_12_21/structure.pdb\n",
      "structure.psf -> /home/exouser/Default_Project/NAMD_from_md_sdk_2024_11_25_09_12_21/structure.psf\n",
      "b4pull.pdb -> /home/exouser/Default_Project/NAMD_from_md_sdk_2024_11_25_09_12_21/b4pull.pdb\n",
      "b4pull.restart.xsc -> /home/exouser/Default_Project/NAMD_from_md_sdk_2024_11_25_09_12_21/b4pull.restart.xsc\n",
      "par_all36_water.prm -> /home/exouser/Default_Project/NAMD_from_md_sdk_2024_11_25_09_12_21/par_all36_water.prm\n",
      "b4pull.restart.coor -> /home/exouser/Default_Project/NAMD_from_md_sdk_2024_11_25_09_12_21/b4pull.restart.coor\n",
      "pull.conf -> /home/exouser/Default_Project/NAMD_from_md_sdk_2024_11_25_09_12_21/pull.conf\n",
      "b4pull.restart.vel -> /home/exouser/Default_Project/NAMD_from_md_sdk_2024_11_25_09_12_21/b4pull.restart.vel\n",
      "par_all36m_prot.prm -> /home/exouser/Default_Project/NAMD_from_md_sdk_2024_11_25_09_12_21/par_all36m_prot.prm\n",
      "Executing app_id=namd on Remote: {'cluster': 'expanse', 'partition': 'shared', 'profile': 'grprsp-1'}\n",
      "{'experimentId': 'DO_NOT_SET_AT_CLIENTS', 'projectId': 'Default_Project_9b70e129-08fc-46ca-a6ce-d24ca46482cb', 'gatewayId': 'default', 'experimentType': 0, 'userName': 'pjaya001@odu.edu', 'experimentName': 'NAMD_from_md_sdk', 'creationTime': None, 'description': 'Testing MD-SDK for December Workshop', 'executionId': None, 'gatewayExecutionId': None, 'gatewayInstanceId': None, 'enableEmailNotification': None, 'emailAddresses': None, 'userConfigurationData': UserConfigurationDataModel(airavataAutoSchedule=False, overrideManualScheduledParams=False, shareExperimentPublicly=False, computationalResourceScheduling=ComputationalResourceSchedulingModel(resourceHostId='expanse_34f71d6b-765d-4bff-be2e-30a74f5c8c32', totalCPUCount=16, nodeCount=1, numberOfThreads=None, queueName='shared', wallTimeLimit=15, totalPhysicalMemory=None, chessisNumber=None, staticWorkingDir=None, overrideLoginUserName=None, overrideScratchLocation=None, overrideAllocationProjectNumber=None, mGroupCount=None), throttleResources=False, userDN=None, generateCert=False, storageId='js-iguide-cybershuttle.che070035.projects.jetstream-cloud.org_9c15d8af-3d36-4c3c-a07a-0f3b4bb5b903', experimentDataDir='/home/exouser/Default_Project/NAMD_from_md_sdk_2024_11_25_09_12_21', useUserCRPref=None, groupResourceProfileId='02881ab4-51c6-462d-a4dd-1b3a0d0fa921', autoScheduledCompResourceSchedulingList=None), 'experimentInputs': None, 'experimentOutputs': None, 'experimentStatus': None, 'errors': None, 'processes': None, 'workflow': None}\n",
      "Assigned exec_id=12345 to task\n"
     ]
    }
   ],
   "source": [
    "plan.run()"
   ]
  },
  {
   "cell_type": "markdown",
   "metadata": {},
   "source": [
    "## Option A - Wait for Completion"
   ]
  },
  {
   "cell_type": "code",
   "execution_count": null,
   "metadata": {},
   "outputs": [],
   "source": [
    "plan.join()"
   ]
  },
  {
   "cell_type": "markdown",
   "metadata": {},
   "source": [
    "## Option B - Terminate Execution"
   ]
  },
  {
   "cell_type": "code",
   "execution_count": null,
   "metadata": {},
   "outputs": [],
   "source": [
    "plan.stop()"
   ]
  },
  {
   "cell_type": "markdown",
   "metadata": {},
   "source": [
    "## Option C - Monitor Files During Execution"
   ]
  },
  {
   "cell_type": "markdown",
   "metadata": {},
   "source": [
    "Displaying the status and files generated by each replica (task)"
   ]
  },
  {
   "cell_type": "code",
   "execution_count": null,
   "metadata": {},
   "outputs": [],
   "source": [
    "for task in plan.tasks:\n",
    "    status = task.status()\n",
    "    files = task.files()\n",
    "    print(status, files)"
   ]
  },
  {
   "cell_type": "markdown",
   "metadata": {},
   "source": [
    "Displaying the intermediate results generated by each replica (task)"
   ]
  },
  {
   "cell_type": "code",
   "execution_count": null,
   "metadata": {},
   "outputs": [],
   "source": [
    "from matplotlib import pyplot as plt\n",
    "import pandas as pd\n",
    "\n",
    "for index, task in enumerate(plan.tasks):\n",
    "\n",
    "    @cs.task_context(task)\n",
    "    def visualize():\n",
    "        data = pd.read_csv(\"data.csv\")\n",
    "        plt.figure(figsize=(8, 6))\n",
    "        plt.plot(data[\"x\"], data[\"y\"], marker=\"o\", linestyle=\"-\", linewidth=2, markersize=6)\n",
    "        plt.title(f\"Plot for Replica {index} of {len(plan.tasks)}\")\n",
    "\n",
    "    visualize()"
   ]
  }
 ],
 "metadata": {
  "kernelspec": {
   "display_name": "Python 3",
   "language": "python",
   "name": "python3"
  },
  "language_info": {
   "codemirror_mode": {
    "name": "ipython",
    "version": 3
   },
   "file_extension": ".py",
   "mimetype": "text/x-python",
   "name": "python",
   "nbconvert_exporter": "python",
   "pygments_lexer": "ipython3",
   "version": "3.12.7"
  }
 },
 "nbformat": 4,
 "nbformat_minor": 2
}
