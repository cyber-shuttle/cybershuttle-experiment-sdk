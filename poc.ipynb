{
 "cells": [
  {
   "cell_type": "markdown",
   "metadata": {},
   "source": [
    "# Cybershuttle Molecular Dynamics SDK\n",
    "\n",
    "This SDK allows users to define, plan, and execute molecular dynamics experiments with ease. In this notebook, we demonstrate how to authenticate, set up a NAMD experiment, add replicas, create an execution plan, and monitor the execution. The experiment object `exp` is an instance of `cybershuttle.base.Experiment`."
   ]
  },
  {
   "cell_type": "code",
   "execution_count": 1,
   "metadata": {},
   "outputs": [],
   "source": [
    "import airavata_experiments as cs\n",
    "from airavata_experiments import md"
   ]
  },
  {
   "cell_type": "markdown",
   "metadata": {},
   "source": [
    "## Authenticate for Remote Execution\n",
    "\n",
    "To authenticate for remote execution, use the `cs.auth.login()` method. This method will prompt you to enter your credentials and authenticate your session."
   ]
  },
  {
   "cell_type": "code",
   "execution_count": null,
   "metadata": {},
   "outputs": [],
   "source": [
    "cs.auth.login()\n",
    "token = cs.auth.context.access_token"
   ]
  },
  {
   "cell_type": "markdown",
   "metadata": {},
   "source": [
    "## Define a NAMD Experiment\n",
    "\n",
    "To define a NAMD experiment, we initialize an instance of the `cybershuttle.base.Experiment` class with the required parameters such as the name of the experiment, and the input PDB and PSF files. The experiment object `exp` is created as shown below:"
   ]
  },
  {
   "cell_type": "code",
   "execution_count": null,
   "metadata": {},
   "outputs": [],
   "source": [
    "exp = md.NAMD.initialize(\n",
    "    name=\"yasith_namd_experiment\",\n",
    "    config_file=\"data/pull.conf\",\n",
    "    pdb_file=\"data/structure.pdb\",\n",
    "    psf_file=\"data/structure.psf\",\n",
    "    ffp_files=[\n",
    "      \"data/par_all36_water.prm\",\n",
    "      \"data/par_all36m_prot.prm\"\n",
    "    ],\n",
    "    other_files=[\n",
    "      \"data/b4pull.pdb\",\n",
    "      \"data/b4pull.restart.coor\",\n",
    "      \"data/b4pull.restart.vel\",\n",
    "      \"data/b4pull.restart.xsc\",\n",
    "    ],\n",
    "    parallelism=\"GPU\",\n",
    ")"
   ]
  },
  {
   "cell_type": "markdown",
   "metadata": {},
   "source": [
    "## Add Replicas for NAMD Experiment\n",
    "\n",
    "To add replicas to the NAMD experiment, we use the `add_replica()` method of the `exp` object. This method adds a replica to the experiment. In this example, we add 4 replicas as shown below:"
   ]
  },
  {
   "cell_type": "code",
   "execution_count": null,
   "metadata": {},
   "outputs": [],
   "source": [
    "runtimes = cs.runtime.query()\n",
    "\n",
    "# always 0th index is local runtime inside\n",
    "# 0th runtime requires docker to be installed\n",
    "\n",
    "display(runtimes)"
   ]
  },
  {
   "cell_type": "code",
   "execution_count": null,
   "metadata": {},
   "outputs": [],
   "source": [
    "# choose between any replicas user has access to\n",
    "# exp.add_replica(*runtimes)\n",
    "\n",
    "# OR choose any replica that is not local\n",
    "# exp.add_replica(*runtimes[1:])\n",
    "# exp.add_replica(*runtimes[1:])\n",
    "\n",
    "# OR use only a specific replica\n",
    "# exp.add_replica(runtimes[1])"
   ]
  },
  {
   "cell_type": "markdown",
   "metadata": {},
   "source": [
    "## Create Execution Plan\n",
    "\n",
    "To create an execution plan for the experiment, use the `plan()` method of the `exp` object. This method will generate a plan for the experiment, which can then be described using the `describe()` method. The code to create and describe the plan is shown below:"
   ]
  },
  {
   "cell_type": "code",
   "execution_count": null,
   "metadata": {},
   "outputs": [],
   "source": [
    "plan = exp.plan()  # this will create a plan for the experiment\n",
    "plan.describe()  # this will describe the plan\n",
    "plan.save_json(\"plan.json\")  # save the plan state"
   ]
  },
  {
   "cell_type": "markdown",
   "metadata": {},
   "source": [
    "## Execute the Plan"
   ]
  },
  {
   "cell_type": "code",
   "execution_count": null,
   "metadata": {},
   "outputs": [],
   "source": [
    "plan = cs.plan.Plan.load_json(\"plan.json\")\n",
    "plan.launch()\n",
    "plan.save_json(\"plan.json\")  # save the plan state"
   ]
  },
  {
   "cell_type": "markdown",
   "metadata": {},
   "source": [
    "## Option A - Wait for Completion"
   ]
  },
  {
   "cell_type": "code",
   "execution_count": null,
   "metadata": {},
   "outputs": [],
   "source": [
    "plan = cs.plan.Plan.load_json(\"plan.json\")\n",
    "plan.describe()"
   ]
  },
  {
   "cell_type": "code",
   "execution_count": null,
   "metadata": {},
   "outputs": [],
   "source": [
    "plan.join()"
   ]
  },
  {
   "cell_type": "markdown",
   "metadata": {},
   "source": [
    "## Option B - Terminate Execution"
   ]
  },
  {
   "cell_type": "code",
   "execution_count": null,
   "metadata": {},
   "outputs": [],
   "source": [
    "plan.stop()"
   ]
  },
  {
   "cell_type": "markdown",
   "metadata": {},
   "source": [
    "## Option C - Monitor Files During Execution"
   ]
  },
  {
   "cell_type": "markdown",
   "metadata": {},
   "source": [
    "Displaying the status and files generated by each replica (task)"
   ]
  },
  {
   "cell_type": "code",
   "execution_count": null,
   "metadata": {},
   "outputs": [],
   "source": [
    "plan = cs.plan.Plan.load_json(\"plan.json\")\n",
    "for task in plan.tasks:\n",
    "    status = task.status()\n",
    "    print(f\"status={status}\")\n",
    "    files = task.files()\n",
    "    print(f\"files={files}\")"
   ]
  },
  {
   "cell_type": "markdown",
   "metadata": {},
   "source": [
    "Displaying the intermediate results generated by each replica (task)"
   ]
  },
  {
   "cell_type": "code",
   "execution_count": null,
   "metadata": {},
   "outputs": [],
   "source": [
    "from matplotlib import pyplot as plt\n",
    "import pandas as pd\n",
    "\n",
    "for index, task in enumerate(plan.tasks):\n",
    "\n",
    "    @cs.task_context(task)\n",
    "    def visualize():\n",
    "        data = pd.read_csv(\"data.csv\")\n",
    "        plt.figure(figsize=(8, 6))\n",
    "        plt.plot(data[\"x\"], data[\"y\"], marker=\"o\", linestyle=\"-\", linewidth=2, markersize=6)\n",
    "        plt.title(f\"Plot for Replica {index} of {len(plan.tasks)}\")\n",
    "\n",
    "    visualize()"
   ]
  },
  {
   "cell_type": "code",
   "execution_count": null,
   "metadata": {},
   "outputs": [],
   "source": [
    "from cybershuttle.airavata import AiravataOperator\n",
    "\n",
    "assert token is not None\n",
    "\n",
    "av = AiravataOperator(token)\n",
    "\n",
    "# Example: get app interface id and storage resource id\n",
    "app_interface_id = av.get_app_interface_id(\"NAMD\")\n",
    "storage = av.get_storage()\n",
    "storage_resource_id = storage.storageResourceId\n",
    "display(f\"application_interface_id={app_interface_id}\")\n",
    "display(f\"storage_resource_id={storage_resource_id}\")\n",
    "\n",
    "# Example: upload files\n",
    "experiment_name = \"NAMD_MD_SDK\"\n",
    "app_name = \"NAMD\"\n",
    "hpc_name = \"login.expanse.sdsc.edu\"\n",
    "\n",
    "experiment = av.launch_experiment(\n",
    "    experiment_name=experiment_name,\n",
    "    app_name=app_name,\n",
    "    computation_resource_name=hpc_name,\n",
    "    inputs={\n",
    "        \"MD-Instructions-Input\": \"./data/pull.conf\",\n",
    "        \"Constraints-PDB-File\": \"./data/structure.pdb\",\n",
    "        \"Protein-Structure-File_PSF\": \"./data/structure.psf\",\n",
    "        \"FF-Parameter-Files\": [\n",
    "            \"./data/par_all36_water.prm\",\n",
    "            \"./data/par_all36m_prot.prm\"\n",
    "        ],\n",
    "        \"Execution_Type\": \"CPU\",\n",
    "        \"Optional_Inputs\": [\n",
    "            \"./data/b4pull.restart.xsc\",\n",
    "            \"./data/b4pull.restart.vel\",\n",
    "            \"./data/b4pull.pdb\",\n",
    "            \"./data/b4pull.restart.coor\",\n",
    "        ],\n",
    "    }\n",
    ")"
   ]
  }
 ],
 "metadata": {
  "kernelspec": {
   "display_name": "Python 3",
   "language": "python",
   "name": "python3"
  },
  "language_info": {
   "codemirror_mode": {
    "name": "ipython",
    "version": 3
   },
   "file_extension": ".py",
   "mimetype": "text/x-python",
   "name": "python",
   "nbconvert_exporter": "python",
   "pygments_lexer": "ipython3",
   "version": "3.12.7"
  }
 },
 "nbformat": 4,
 "nbformat_minor": 2
}
