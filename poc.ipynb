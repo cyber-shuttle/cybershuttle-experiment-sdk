{
 "cells": [
  {
   "cell_type": "markdown",
   "metadata": {},
   "source": [
    "# Cybershuttle Molecular Dynamics SDK\n",
    "\n",
    "This SDK allows users to define, plan, and execute molecular dynamics experiments with ease. In this notebook, we demonstrate how to authenticate, set up a NAMD experiment, add replicas, create an execution plan, and monitor the execution. The experiment object `exp` is an instance of `cybershuttle.base.Experiment`."
   ]
  },
  {
   "cell_type": "code",
   "execution_count": 1,
   "metadata": {},
   "outputs": [],
   "source": [
    "import cybershuttle as cs\n",
    "from cybershuttle import md"
   ]
  },
  {
   "cell_type": "markdown",
   "metadata": {},
   "source": [
    "## Authenticate for Remote Execution\n",
    "\n",
    "To authenticate for remote execution, use the `cs.auth.login()` method. This method will prompt you to enter your credentials and authenticate your session."
   ]
  },
  {
   "cell_type": "code",
   "execution_count": 2,
   "metadata": {},
   "outputs": [
    {
     "name": "stdout",
     "output_type": "stream",
     "text": [
      "User code: LHZI-XXPX\n",
      "Please authenticate by visiting: https://auth.cybershuttle.org/realms/10000000/device?user_code=LHZI-XXPX\n",
      "Waiting for authorization...\n",
      "Authorization successful!\n"
     ]
    }
   ],
   "source": [
    "cs.auth.login()\n",
    "token = cs.auth.context.access_token"
   ]
  },
  {
   "cell_type": "markdown",
   "metadata": {},
   "source": [
    "## Define a NAMD Experiment\n",
    "\n",
    "To define a NAMD experiment, we initialize an instance of the `cybershuttle.base.Experiment` class with the required parameters such as the name of the experiment, and the input PDB and PSF files. The experiment object `exp` is created as shown below:"
   ]
  },
  {
   "cell_type": "code",
   "execution_count": 4,
   "metadata": {},
   "outputs": [],
   "source": [
    "exp = md.NAMD.initialize(\n",
    "    name=\"yasith_namd_experiment\",\n",
    "    config_file=\"data/pull.conf\",\n",
    "    pdb_file=\"data/structure.pdb\",\n",
    "    psf_file=\"data/structure.psf\",\n",
    "    other_files=[\n",
    "      \"data/b4pull.pdb\",\n",
    "      \"data/b4pull.restart.coor\",\n",
    "      \"data/b4pull.restart.vel\",\n",
    "      \"data/b4pull.restart.xsc\",\n",
    "      \"data/par_all36_water.prm\",\n",
    "      \"data/par_all36_prot.prm\",\n",
    "    ]\n",
    ")"
   ]
  },
  {
   "cell_type": "markdown",
   "metadata": {},
   "source": [
    "## Add Replicas for NAMD Experiment\n",
    "\n",
    "To add replicas to the NAMD experiment, we use the `add_replica()` method of the `exp` object. This method adds a replica to the experiment. In this example, we add 4 replicas as shown below:"
   ]
  },
  {
   "cell_type": "code",
   "execution_count": null,
   "metadata": {},
   "outputs": [
    {
     "data": {
      "text/plain": [
       "[Mock(id='mock', args={})]"
      ]
     },
     "metadata": {},
     "output_type": "display_data"
    }
   ],
   "source": [
    "runtimes = cs.runtime.query()\n",
    "\n",
    "# always 0th index is local runtime inside\n",
    "# 0th runtime requires docker to be installed\n",
    "\n",
    "display(runtimes)"
   ]
  },
  {
   "cell_type": "code",
   "execution_count": null,
   "metadata": {},
   "outputs": [],
   "source": [
    "# choose between any replicas user has access to\n",
    "# exp.add_replica(*runtimes)\n",
    "\n",
    "# OR choose any replica that is not local\n",
    "exp.add_replica(*runtimes[1:])\n",
    "\n",
    "# OR use only a specific replica\n",
    "# exp.add_replica(runtimes[1])"
   ]
  },
  {
   "cell_type": "markdown",
   "metadata": {},
   "source": [
    "## Create Execution Plan\n",
    "\n",
    "To create an execution plan for the experiment, use the `plan()` method of the `exp` object. This method will generate a plan for the experiment, which can then be described using the `describe()` method. The code to create and describe the plan is shown below:"
   ]
  },
  {
   "cell_type": "code",
   "execution_count": 6,
   "metadata": {},
   "outputs": [
    {
     "name": "stdout",
     "output_type": "stream",
     "text": [
      "Task(app_id=namd, inputs={'config_file': 'data/pull.conf', 'pdb_file': 'data/structure.pdb', 'psf_file': 'data/structure.psf', 'other_files': ['data/b4pull.pdb', 'data/b4pull.restart.coor', 'data/b4pull.restart.vel', 'data/b4pull.restart.xsc', 'data/par_all36_water.prm', 'data/par_all36_prot.prm']}, runtime=Remote(args={'cluster': 'expanse', 'partition': 'shared', 'profile': 'grprsp-1'}))\n"
     ]
    }
   ],
   "source": [
    "plan = exp.plan()  # this will create a plan for the experiment\n",
    "plan.describe()  # this will describe the plan"
   ]
  },
  {
   "cell_type": "code",
   "execution_count": null,
   "metadata": {},
   "outputs": [
    {
     "name": "stdout",
     "output_type": "stream",
     "text": [
      "Task(app_id=namd, inputs={'config_file': 'data/pull.conf', 'pdb_file': 'data/structure.pdb', 'psf_file': 'data/structure.psf', 'other_files': ['data/b4pull.pdb', 'data/b4pull.restart.coor', 'data/b4pull.restart.vel', 'data/b4pull.restart.xsc', 'data/par_all36_water.prm', 'data/par_all36_prot.prm']}, runtime=Remote(args={'cluster': 'expanse', 'partition': 'shared', 'profile': 'grprsp-1'}))\n"
     ]
    }
   ],
   "source": [
    "# can also save the plan to a file, or load a plan from a file\n",
    "plan.save_json(\"plan.json\")\n",
    "plan = cs.plan.Plan.load_json(\"plan.json\")\n",
    "plan.describe()"
   ]
  },
  {
   "cell_type": "markdown",
   "metadata": {},
   "source": [
    "## Execute the Plan"
   ]
  },
  {
   "cell_type": "code",
   "execution_count": 8,
   "metadata": {},
   "outputs": [
    {
     "name": "stdout",
     "output_type": "stream",
     "text": [
      "Preparing execution plan...\n",
      "Task(app_id=namd, inputs={'config_file': 'data/pull.conf', 'pdb_file': 'data/structure.pdb', 'psf_file': 'data/structure.psf', 'other_files': ['data/b4pull.pdb', 'data/b4pull.restart.coor', 'data/b4pull.restart.vel', 'data/b4pull.restart.xsc', 'data/par_all36_water.prm', 'data/par_all36_prot.prm']}, runtime=Remote(args={'cluster': 'expanse', 'partition': 'shared', 'profile': 'grprsp-1'}))\n",
      "Confirming execution plan...\n",
      "Starting tasks...\n",
      "{'project_name': 'Default Project', 'app_name': 'namd', 'experiment_name': 'NAMD_from_md_sdk', 'experiment_description': 'Testing MD-SDK for December Workshop', 'resource_host_name': 'login.expanse.sdsc.edu', 'group_resource_profile_name': 'Default', 'storage_resource_name': 'iguide-cybershuttle.che070035.projects.jetstream-cloud.org', 'node_count': 1, 'total_cpu_count': 16, 'wall_time_limit': 15, 'queue_name': 'shared', 'gateway_id': 'default'}\n",
      "{'configuration_file_location': '/Users/yasith/projects/artisan/cybershuttle-experiment-sdk/settings.ini', 'username': 'pjaya001@odu.edu', 'password': None, 'gateway_id': 'default', 'access_token': 'eyJhbGciOiJSUzI1NiIsInR5cCIgOiAiSldUIiwia2lkIiA6ICJCTlVjenNJd1Q4ZkdGa2d0MnFjMGR2cXJPTWtiQ01FU1pfa2xpQUtLb2UwIn0.eyJleHAiOjE3MzI3MTQwNjEsImlhdCI6MTczMjcwNjg2MSwiYXV0aF90aW1lIjoxNzMyNzA0MjU0LCJqdGkiOiI0M2ZjYjYzYi01NGMwLTQ4ZTYtOTM0Zi04MDJjMzJhNmFhNzQiLCJpc3MiOiJodHRwczovL2F1dGguY3liZXJzaHV0dGxlLm9yZy9yZWFsbXMvMTAwMDAwMDAiLCJhdWQiOlsiYnJva2VyIiwiYWNjb3VudCJdLCJzdWIiOiJjNDQ5ZGJhYi0zNjQ5LTRmMWYtOWY3Yy0wNjZmZTI2Yzc5NmUiLCJ0eXAiOiJCZWFyZXIiLCJhenAiOiJjeWJlcnNodXR0bGUtYWdlbnQiLCJzZXNzaW9uX3N0YXRlIjoiYjU3OGJiNzktZTgyOS00ZWFlLWIzOTMtM2FlMWIzMzE5NTRjIiwiYWNyIjoiMCIsImFsbG93ZWQtb3JpZ2lucyI6WyIvKiJdLCJyZWFsbV9hY2Nlc3MiOnsicm9sZXMiOlsiZGVmYXVsdC1yb2xlcy0xMDAwMDAwMCIsIm9mZmxpbmVfYWNjZXNzIiwidW1hX2F1dGhvcml6YXRpb24iXX0sInJlc291cmNlX2FjY2VzcyI6eyJicm9rZXIiOnsicm9sZXMiOlsicmVhZC10b2tlbiJdfSwiYWNjb3VudCI6eyJyb2xlcyI6WyJtYW5hZ2UtYWNjb3VudCIsIm1hbmFnZS1hY2NvdW50LWxpbmtzIiwidmlldy1wcm9maWxlIl19fSwic2NvcGUiOiJvcGVuaWQgZW1haWwgcHJvZmlsZSIsInNpZCI6ImI1NzhiYjc5LWU4MjktNGVhZS1iMzkzLTNhZTFiMzMxOTU0YyIsImVtYWlsX3ZlcmlmaWVkIjp0cnVlLCJuYW1lIjoiWWFzaXRoIEpheWF3YXJkYW5hIiwicHJlZmVycmVkX3VzZXJuYW1lIjoicGpheWEwMDFAb2R1LmVkdSIsImdpdmVuX25hbWUiOiJZYXNpdGgiLCJmYW1pbHlfbmFtZSI6IkpheWF3YXJkYW5hIiwiZW1haWwiOiJwamF5YTAwMUBvZHUuZWR1In0.fqVUuydn7u7EABzHoFqsAUsLI1q7v_H-gXVct33j-k4GNk68t_OEsEJEeCPaYorb8BG0dB7-m1Q-9pgg0pRVgAjfvZY3ajF__E8niam6EdhaTpU7Q2JDxCF-l1ejkA7kfkx_aDyIWU_VtjJAH6JpuSQ122iIpOpq78ZH3PeG-D7GLX56DDxo2gPoSqiKHlj_KWtDHAitW3c4KtnQcHmhi45yAN2pXrQBJf9HrcoKsKJeywzKXSCJmN6ztNyjplG5ZqLriY0CNmqMt8BUitPq8RPEtr74qGaxAcNuS-y1kLnYLNdLIEmZB6rzDGIlUCeOnY1qxkaDAPYidw27V3HI7A'}\n",
      "{'projectId': 'Default_Project_9b70e129-08fc-46ca-a6ce-d24ca46482cb', 'resourceHostId': 'expanse_34f71d6b-765d-4bff-be2e-30a74f5c8c32', 'groupResourceProfileId': '02881ab4-51c6-462d-a4dd-1b3a0d0fa921', 'storageId': 'js-iguide-cybershuttle.che070035.projects.jetstream-cloud.org_9c15d8af-3d36-4c3c-a07a-0f3b4bb5b903'}\n",
      "StoragePreference(storageResourceId='js-iguide-cybershuttle.che070035.projects.jetstream-cloud.org_9c15d8af-3d36-4c3c-a07a-0f3b4bb5b903', loginUserName='pga', fileSystemRootLocation='/var/www/portals/gateway-user-data/10000000', resourceSpecificCredentialStoreToken='46a99a5a-8b55-4982-bfd7-90fe72b00d46')\n",
      "Copying data to compute resource:  {'config_file': 'data/pull.conf', 'pdb_file': 'data/structure.pdb', 'psf_file': 'data/structure.psf', 'other_files': ['data/b4pull.pdb', 'data/b4pull.restart.coor', 'data/b4pull.restart.vel', 'data/b4pull.restart.xsc', 'data/par_all36_water.prm', 'data/par_all36_prot.prm']}\n",
      "structure.pdb -> /home/exouser/Default_Project/NAMD_from_md_sdk_2024_11_27_05_28_58/structure.pdb\n",
      "structure.psf -> /home/exouser/Default_Project/NAMD_from_md_sdk_2024_11_27_05_28_58/structure.psf\n",
      "b4pull.pdb -> /home/exouser/Default_Project/NAMD_from_md_sdk_2024_11_27_05_28_58/b4pull.pdb\n",
      "b4pull.restart.xsc -> /home/exouser/Default_Project/NAMD_from_md_sdk_2024_11_27_05_28_58/b4pull.restart.xsc\n",
      "par_all36_water.prm -> /home/exouser/Default_Project/NAMD_from_md_sdk_2024_11_27_05_28_58/par_all36_water.prm\n",
      "b4pull.restart.coor -> /home/exouser/Default_Project/NAMD_from_md_sdk_2024_11_27_05_28_58/b4pull.restart.coor\n",
      "pull.conf -> /home/exouser/Default_Project/NAMD_from_md_sdk_2024_11_27_05_28_58/pull.conf\n",
      "b4pull.restart.vel -> /home/exouser/Default_Project/NAMD_from_md_sdk_2024_11_27_05_28_58/b4pull.restart.vel\n",
      "par_all36m_prot.prm -> /home/exouser/Default_Project/NAMD_from_md_sdk_2024_11_27_05_28_58/par_all36m_prot.prm\n",
      "Executing app_id=namd on Remote: {'cluster': 'expanse', 'partition': 'shared', 'profile': 'grprsp-1'}\n",
      "2\n",
      "No such file or directory\n"
     ]
    }
   ],
   "source": [
    "plan.run()"
   ]
  },
  {
   "cell_type": "markdown",
   "metadata": {},
   "source": [
    "## Option A - Wait for Completion"
   ]
  },
  {
   "cell_type": "code",
   "execution_count": null,
   "metadata": {},
   "outputs": [],
   "source": [
    "plan.join()"
   ]
  },
  {
   "cell_type": "markdown",
   "metadata": {},
   "source": [
    "## Option B - Terminate Execution"
   ]
  },
  {
   "cell_type": "code",
   "execution_count": null,
   "metadata": {},
   "outputs": [],
   "source": [
    "plan.stop()"
   ]
  },
  {
   "cell_type": "markdown",
   "metadata": {},
   "source": [
    "## Option C - Monitor Files During Execution"
   ]
  },
  {
   "cell_type": "markdown",
   "metadata": {},
   "source": [
    "Displaying the status and files generated by each replica (task)"
   ]
  },
  {
   "cell_type": "code",
   "execution_count": null,
   "metadata": {},
   "outputs": [],
   "source": [
    "for task in plan.tasks:\n",
    "    status = task.status()\n",
    "    files = task.files()\n",
    "    \n",
    "    print(status, files)"
   ]
  },
  {
   "cell_type": "markdown",
   "metadata": {},
   "source": [
    "Displaying the intermediate results generated by each replica (task)"
   ]
  },
  {
   "cell_type": "code",
   "execution_count": null,
   "metadata": {},
   "outputs": [],
   "source": [
    "from matplotlib import pyplot as plt\n",
    "import pandas as pd\n",
    "\n",
    "for index, task in enumerate(plan.tasks):\n",
    "\n",
    "    @cs.task_context(task)\n",
    "    def visualize():\n",
    "        data = pd.read_csv(\"data.csv\")\n",
    "        plt.figure(figsize=(8, 6))\n",
    "        plt.plot(data[\"x\"], data[\"y\"], marker=\"o\", linestyle=\"-\", linewidth=2, markersize=6)\n",
    "        plt.title(f\"Plot for Replica {index} of {len(plan.tasks)}\")\n",
    "\n",
    "    visualize()"
   ]
  },
  {
   "cell_type": "markdown",
   "metadata": {},
   "source": [
    "## Questions to Resolve"
   ]
  },
  {
   "cell_type": "code",
   "execution_count": null,
   "metadata": {},
   "outputs": [],
   "source": [
    "from cybershuttle.airavata import AiravataOperator\n",
    "\n",
    "assert token is not None\n",
    "op = AiravataOperator(\"/Users/yasith/projects/artisan/cybershuttle-experiment-sdk/settings.ini\", token)\n",
    "\n",
    "display(op.get_application_list())\n",
    "display(op.get_compatible_deployments(\"NAMD_76b9b262-de09-4ab7-b4d4-e89502405af7\"))\n",
    "\n",
    "# display(op.upload_files(\n",
    "#   host=\"gf4.ucs.indiana.edu\",\n",
    "#   port=9002,\n",
    "#   username=\"pga\",\n",
    "#   local_input_path=\"./data\",\n",
    "#   base_path=\"\",\n",
    "#   project_name=\"Default Project\",\n",
    "#   experiment_name=\"NAMD_MD_SDK_20241127_0451\",\n",
    "#   auth_type=\"token\"\n",
    "# ))\n",
    "display(op.upload_files(\n",
    "  host=\"149.165.172.192\",\n",
    "  port=22,\n",
    "  username=\"exouser\",\n",
    "  local_input_path=\"./data\",\n",
    "  base_path=\"/home/exouser\",\n",
    "  project_name=\"Default Project\",\n",
    "  experiment_name=\"NAMD_MD_SDK_20241127_0451\",\n",
    "  auth_type=\"pkey\",\n",
    "))"
   ]
  }
 ],
 "metadata": {
  "kernelspec": {
   "display_name": "Python 3",
   "language": "python",
   "name": "python3"
  },
  "language_info": {
   "codemirror_mode": {
    "name": "ipython",
    "version": 3
   },
   "file_extension": ".py",
   "mimetype": "text/x-python",
   "name": "python",
   "nbconvert_exporter": "python",
   "pygments_lexer": "ipython3",
   "version": "3.12.7"
  }
 },
 "nbformat": 4,
 "nbformat_minor": 2
}
