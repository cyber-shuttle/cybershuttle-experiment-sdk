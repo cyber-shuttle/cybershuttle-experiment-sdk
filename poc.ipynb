{
 "cells": [
  {
   "cell_type": "markdown",
   "metadata": {},
   "source": [
    "# Cybershuttle Molecular Dynamics SDK\n",
    "\n",
    "This SDK allows users to define, plan, and execute molecular dynamics experiments with ease. In this notebook, we demonstrate how to authenticate, set up a NAMD experiment, add replicas, create an execution plan, and monitor the execution. The experiment object `exp` is an instance of `cybershuttle.base.Experiment`."
   ]
  },
  {
   "cell_type": "code",
   "execution_count": 1,
   "metadata": {},
   "outputs": [],
   "source": [
    "import cybershuttle as cs\n",
    "from cybershuttle import md"
   ]
  },
  {
   "cell_type": "markdown",
   "metadata": {},
   "source": [
    "## Authenticate for Remote Execution\n",
    "\n",
    "To authenticate for remote execution, use the `cs.auth.login()` method. This method will prompt you to enter your credentials and authenticate your session."
   ]
  },
  {
   "cell_type": "code",
   "execution_count": 2,
   "metadata": {},
   "outputs": [
    {
     "name": "stdout",
     "output_type": "stream",
     "text": [
      "User code: IPXI-MBUR\n",
      "Please authenticate by visiting: https://auth.cybershuttle.org/realms/10000000/device?user_code=IPXI-MBUR\n",
      "Waiting for authorization...\n",
      "Authorization successful!\n"
     ]
    }
   ],
   "source": [
    "cs.auth.login()\n",
    "token = cs.auth.context.access_token"
   ]
  },
  {
   "cell_type": "markdown",
   "metadata": {},
   "source": [
    "## Define a NAMD Experiment\n",
    "\n",
    "To define a NAMD experiment, we initialize an instance of the `cybershuttle.base.Experiment` class with the required parameters such as the name of the experiment, and the input PDB and PSF files. The experiment object `exp` is created as shown below:"
   ]
  },
  {
   "cell_type": "code",
   "execution_count": 5,
   "metadata": {},
   "outputs": [],
   "source": [
    "exp = md.NAMD.initialize(\n",
    "    name=\"yasith_namd_experiment\",\n",
    "    config_file=\"data/pull.conf\",\n",
    "    pdb_file=\"data/structure.pdb\",\n",
    "    psf_file=\"data/structure.psf\",\n",
    "    ffp_files=[\n",
    "      \"data/par_all36_water.prm\",\n",
    "      \"data/par_all36m_prot.prm\"\n",
    "    ],\n",
    "    other_files=[\n",
    "      \"data/b4pull.pdb\",\n",
    "      \"data/b4pull.restart.coor\",\n",
    "      \"data/b4pull.restart.vel\",\n",
    "      \"data/b4pull.restart.xsc\",\n",
    "    ]\n",
    ")"
   ]
  },
  {
   "cell_type": "markdown",
   "metadata": {},
   "source": [
    "## Add Replicas for NAMD Experiment\n",
    "\n",
    "To add replicas to the NAMD experiment, we use the `add_replica()` method of the `exp` object. This method adds a replica to the experiment. In this example, we add 4 replicas as shown below:"
   ]
  },
  {
   "cell_type": "code",
   "execution_count": 6,
   "metadata": {},
   "outputs": [
    {
     "data": {
      "text/plain": [
       "[Mock(id='mock', args={}),\n",
       " Remote(id='remote', args={'cluster': 'login.expanse.sdsc.edu'})]"
      ]
     },
     "metadata": {},
     "output_type": "display_data"
    }
   ],
   "source": [
    "runtimes = cs.runtime.query()\n",
    "\n",
    "# always 0th index is local runtime inside\n",
    "# 0th runtime requires docker to be installed\n",
    "\n",
    "display(runtimes)"
   ]
  },
  {
   "cell_type": "code",
   "execution_count": 7,
   "metadata": {},
   "outputs": [],
   "source": [
    "# choose between any replicas user has access to\n",
    "# exp.add_replica(*runtimes)\n",
    "\n",
    "# OR choose any replica that is not local\n",
    "exp.add_replica(*runtimes[1:])\n",
    "exp.add_replica(*runtimes[1:])\n",
    "\n",
    "# OR use only a specific replica\n",
    "# exp.add_replica(runtimes[1])"
   ]
  },
  {
   "cell_type": "markdown",
   "metadata": {},
   "source": [
    "## Create Execution Plan\n",
    "\n",
    "To create an execution plan for the experiment, use the `plan()` method of the `exp` object. This method will generate a plan for the experiment, which can then be described using the `describe()` method. The code to create and describe the plan is shown below:"
   ]
  },
  {
   "cell_type": "code",
   "execution_count": null,
   "metadata": {},
   "outputs": [],
   "source": [
    "plan = exp.plan()  # this will create a plan for the experiment\n",
    "plan.describe()  # this will describe the plan\n",
    "plan.save_json(\"plan.json\")  # save the plan state"
   ]
  },
  {
   "cell_type": "markdown",
   "metadata": {},
   "source": [
    "## Execute the Plan"
   ]
  },
  {
   "cell_type": "code",
   "execution_count": null,
   "metadata": {},
   "outputs": [],
   "source": [
    "plan.launch()\n",
    "plan.save_json(\"plan.json\")  # save the plan state"
   ]
  },
  {
   "cell_type": "markdown",
   "metadata": {},
   "source": [
    "## Option A - Wait for Completion"
   ]
  },
  {
   "cell_type": "code",
   "execution_count": 10,
   "metadata": {},
   "outputs": [
    {
     "name": "stdout",
     "output_type": "stream",
     "text": [
      "Task(name=yasith_namd_experiment_9801, app_id=NAMD, inputs={'MD-Instructions-Input': 'data/pull.conf', 'Coordinates-PDB-File': 'data/structure.pdb', 'Protein-Structure-File_PSF': 'data/structure.psf', 'FF-Parameter-Files': ['data/par_all36_water.prm', 'data/par_all36m_prot.prm'], 'Execution_Type': 'CPU', 'Optional_Inputs': ['data/b4pull.pdb', 'data/b4pull.restart.coor', 'data/b4pull.restart.vel', 'data/b4pull.restart.xsc'], 'Number of Replicas': 1}, runtime=Remote(args={'cluster': 'login.expanse.sdsc.edu'}))\n",
      "Task(name=yasith_namd_experiment_58A2, app_id=NAMD, inputs={'MD-Instructions-Input': 'data/pull.conf', 'Coordinates-PDB-File': 'data/structure.pdb', 'Protein-Structure-File_PSF': 'data/structure.psf', 'FF-Parameter-Files': ['data/par_all36_water.prm', 'data/par_all36m_prot.prm'], 'Execution_Type': 'CPU', 'Optional_Inputs': ['data/b4pull.pdb', 'data/b4pull.restart.coor', 'data/b4pull.restart.vel', 'data/b4pull.restart.xsc'], 'Number of Replicas': 1}, runtime=Remote(args={'cluster': 'login.expanse.sdsc.edu'}))\n"
     ]
    }
   ],
   "source": [
    "plan = cs.plan.Plan.load_json(\"plan.json\")\n",
    "plan.describe()"
   ]
  },
  {
   "cell_type": "code",
   "execution_count": 11,
   "metadata": {},
   "outputs": [
    {
     "data": {
      "application/vnd.jupyter.widget-view+json": {
       "model_id": "4ed709fe64f44b66bb5057f5792bbf3b",
       "version_major": 2,
       "version_minor": 0
      },
      "text/plain": [
       "Output()"
      ]
     },
     "metadata": {},
     "output_type": "display_data"
    },
    {
     "data": {
      "text/html": [
       "<pre style=\"white-space:pre;overflow-x:auto;line-height:normal;font-family:Menlo,'DejaVu Sans Mono',consolas,'Courier New',monospace\"></pre>\n"
      ],
      "text/plain": []
     },
     "metadata": {},
     "output_type": "display_data"
    },
    {
     "ename": "TTransportException",
     "evalue": "TSocket read 0 bytes",
     "output_type": "error",
     "traceback": [
      "\u001b[0;31m---------------------------------------------------------------------------\u001b[0m",
      "\u001b[0;31mTTransportException\u001b[0m                       Traceback (most recent call last)",
      "Cell \u001b[0;32mIn[11], line 1\u001b[0m\n\u001b[0;32m----> 1\u001b[0m \u001b[43mplan\u001b[49m\u001b[38;5;241;43m.\u001b[39;49m\u001b[43mjoin\u001b[49m\u001b[43m(\u001b[49m\u001b[43m)\u001b[49m\n",
      "File \u001b[0;32m~/projects/artisan/cybershuttle-experiment-sdk/src/cybershuttle/plan.py:101\u001b[0m, in \u001b[0;36mPlan.join\u001b[0;34m(self, check_every_n_mins)\u001b[0m\n\u001b[1;32m     99\u001b[0m completed \u001b[38;5;241m=\u001b[39m [\u001b[38;5;28;01mFalse\u001b[39;00m] \u001b[38;5;241m*\u001b[39m n\n\u001b[1;32m    100\u001b[0m \u001b[38;5;28;01mwhile\u001b[39;00m \u001b[38;5;129;01mnot\u001b[39;00m \u001b[38;5;28mall\u001b[39m(completed):\n\u001b[0;32m--> 101\u001b[0m   statuses \u001b[38;5;241m=\u001b[39m \u001b[38;5;28;43mself\u001b[39;49m\u001b[38;5;241;43m.\u001b[39;49m\u001b[43m__stage_status__\u001b[49m\u001b[43m(\u001b[49m\u001b[43m)\u001b[49m\n\u001b[1;32m    102\u001b[0m   \u001b[38;5;28;01mfor\u001b[39;00m i, (task, status) \u001b[38;5;129;01min\u001b[39;00m \u001b[38;5;28menumerate\u001b[39m(\u001b[38;5;28mzip\u001b[39m(\u001b[38;5;28mself\u001b[39m\u001b[38;5;241m.\u001b[39mtasks, statuses)):\n\u001b[1;32m    103\u001b[0m     state \u001b[38;5;241m=\u001b[39m status\u001b[38;5;241m.\u001b[39mstate\n",
      "File \u001b[0;32m~/projects/artisan/cybershuttle-experiment-sdk/src/cybershuttle/plan.py:55\u001b[0m, in \u001b[0;36mPlan.__stage_status__\u001b[0;34m(self)\u001b[0m\n\u001b[1;32m     53\u001b[0m statuses \u001b[38;5;241m=\u001b[39m []\n\u001b[1;32m     54\u001b[0m \u001b[38;5;28;01mfor\u001b[39;00m task \u001b[38;5;129;01min\u001b[39;00m \u001b[38;5;28mself\u001b[39m\u001b[38;5;241m.\u001b[39mtasks:\n\u001b[0;32m---> 55\u001b[0m   statuses\u001b[38;5;241m.\u001b[39mappend(\u001b[43mtask\u001b[49m\u001b[38;5;241;43m.\u001b[39;49m\u001b[43mstatus\u001b[49m\u001b[43m(\u001b[49m\u001b[43m)\u001b[49m)\n\u001b[1;32m     56\u001b[0m \u001b[38;5;28;01mreturn\u001b[39;00m statuses\n",
      "File \u001b[0;32m~/projects/artisan/cybershuttle-experiment-sdk/src/cybershuttle/task.py:40\u001b[0m, in \u001b[0;36mTask.status\u001b[0;34m(self)\u001b[0m\n\u001b[1;32m     38\u001b[0m \u001b[38;5;28;01mdef\u001b[39;00m \u001b[38;5;21mstatus\u001b[39m(\u001b[38;5;28mself\u001b[39m) \u001b[38;5;241m-\u001b[39m\u001b[38;5;241m>\u001b[39m \u001b[38;5;28mstr\u001b[39m:\n\u001b[1;32m     39\u001b[0m   \u001b[38;5;28;01massert\u001b[39;00m \u001b[38;5;28mself\u001b[39m\u001b[38;5;241m.\u001b[39mref \u001b[38;5;129;01mis\u001b[39;00m \u001b[38;5;129;01mnot\u001b[39;00m \u001b[38;5;28;01mNone\u001b[39;00m\n\u001b[0;32m---> 40\u001b[0m   \u001b[38;5;28;01mreturn\u001b[39;00m \u001b[38;5;28;43mself\u001b[39;49m\u001b[38;5;241;43m.\u001b[39;49m\u001b[43mruntime\u001b[49m\u001b[38;5;241;43m.\u001b[39;49m\u001b[43mstatus\u001b[49m\u001b[43m(\u001b[49m\u001b[38;5;28;43mself\u001b[39;49m\u001b[38;5;241;43m.\u001b[39;49m\u001b[43mref\u001b[49m\u001b[43m)\u001b[49m\n",
      "File \u001b[0;32m~/projects/artisan/cybershuttle-experiment-sdk/src/cybershuttle/runtime.py:146\u001b[0m, in \u001b[0;36mRemote.status\u001b[0;34m(self, ref)\u001b[0m\n\u001b[1;32m    143\u001b[0m \u001b[38;5;28;01mfrom\u001b[39;00m \u001b[38;5;21;01m.\u001b[39;00m\u001b[38;5;21;01mairavata\u001b[39;00m \u001b[38;5;28;01mimport\u001b[39;00m AiravataOperator\n\u001b[1;32m    144\u001b[0m av \u001b[38;5;241m=\u001b[39m AiravataOperator(context\u001b[38;5;241m.\u001b[39maccess_token)\n\u001b[0;32m--> 146\u001b[0m status \u001b[38;5;241m=\u001b[39m \u001b[43mav\u001b[49m\u001b[38;5;241;43m.\u001b[39;49m\u001b[43mget_experiment_status\u001b[49m\u001b[43m(\u001b[49m\u001b[43mref\u001b[49m\u001b[43m)\u001b[49m\n\u001b[1;32m    147\u001b[0m \u001b[38;5;28;01mreturn\u001b[39;00m status\n",
      "File \u001b[0;32m~/projects/artisan/cybershuttle-experiment-sdk/src/cybershuttle/airavata.py:321\u001b[0m, in \u001b[0;36mget_experiment_status\u001b[0;34m(self, experiment_id)\u001b[0m\n\u001b[1;32m      0\u001b[0m <Error retrieving source code with stack_data see ipython/ipython#13598>\n",
      "File \u001b[0;32m~/.mamba/envs/cybershuttle-exp/lib/python3.12/site-packages/airavata_sdk/clients/api_server_client.py:1524\u001b[0m, in \u001b[0;36mAPIServerClient.get_experiment_status\u001b[0;34m(self, authz_token, airavata_experiment_id)\u001b[0m\n\u001b[1;32m   1503\u001b[0m \u001b[38;5;250m\u001b[39m\u001b[38;5;124;03m\"\"\"\u001b[39;00m\n\u001b[1;32m   1504\u001b[0m \n\u001b[1;32m   1505\u001b[0m \u001b[38;5;124;03mGet Experiment Status\u001b[39;00m\n\u001b[0;32m   (...)\u001b[0m\n\u001b[1;32m   1521\u001b[0m \u001b[38;5;124;03m - airavataExperimentId\u001b[39;00m\n\u001b[1;32m   1522\u001b[0m \u001b[38;5;124;03m\"\"\"\u001b[39;00m\n\u001b[1;32m   1523\u001b[0m \u001b[38;5;28;01mtry\u001b[39;00m:\n\u001b[0;32m-> 1524\u001b[0m     \u001b[38;5;28;01mreturn\u001b[39;00m \u001b[38;5;28;43mself\u001b[39;49m\u001b[38;5;241;43m.\u001b[39;49m\u001b[43mapi_server_client_pool\u001b[49m\u001b[38;5;241;43m.\u001b[39;49m\u001b[43mgetExperimentStatus\u001b[49m\u001b[43m(\u001b[49m\u001b[43mauthz_token\u001b[49m\u001b[43m,\u001b[49m\u001b[43m \u001b[49m\u001b[43mairavata_experiment_id\u001b[49m\u001b[43m)\u001b[49m\n\u001b[1;32m   1525\u001b[0m \u001b[38;5;28;01mexcept\u001b[39;00m InvalidRequestException:\n\u001b[1;32m   1526\u001b[0m     logger\u001b[38;5;241m.\u001b[39mexception(\u001b[38;5;124m\"\u001b[39m\u001b[38;5;124mError occurred in get_experiment_status, probably due to invalid parameters \u001b[39m\u001b[38;5;124m\"\u001b[39m,\n\u001b[1;32m   1527\u001b[0m                      )\n",
      "File \u001b[0;32m~/.mamba/envs/cybershuttle-exp/lib/python3.12/site-packages/thrift_connector/connection_pool.py:375\u001b[0m, in \u001b[0;36mBaseClientPool.__getattr__.<locals>.method\u001b[0;34m(*args, **kwds)\u001b[0m\n\u001b[1;32m    373\u001b[0m \u001b[38;5;28;01mtry\u001b[39;00m:\n\u001b[1;32m    374\u001b[0m     \u001b[38;5;28;01mif\u001b[39;00m api \u001b[38;5;129;01mand\u001b[39;00m \u001b[38;5;28mcallable\u001b[39m(api):\n\u001b[0;32m--> 375\u001b[0m         \u001b[38;5;28;01mreturn\u001b[39;00m \u001b[43mapi\u001b[49m\u001b[43m(\u001b[49m\u001b[38;5;241;43m*\u001b[39;49m\u001b[43margs\u001b[49m\u001b[43m,\u001b[49m\u001b[43m \u001b[49m\u001b[38;5;241;43m*\u001b[39;49m\u001b[38;5;241;43m*\u001b[39;49m\u001b[43mkwds\u001b[49m\u001b[43m)\u001b[49m\n\u001b[1;32m    376\u001b[0m     \u001b[38;5;28;01mraise\u001b[39;00m \u001b[38;5;167;01mAttributeError\u001b[39;00m(\u001b[38;5;124m\"\u001b[39m\u001b[38;5;132;01m%s\u001b[39;00m\u001b[38;5;124m not found in \u001b[39m\u001b[38;5;132;01m%s\u001b[39;00m\u001b[38;5;124m\"\u001b[39m \u001b[38;5;241m%\u001b[39m (name, client))\n\u001b[1;32m    377\u001b[0m \u001b[38;5;28;01mexcept\u001b[39;00m (client\u001b[38;5;241m.\u001b[39mTTransportException, socket\u001b[38;5;241m.\u001b[39merror):\n",
      "File \u001b[0;32m~/.mamba/envs/cybershuttle-exp/lib/python3.12/site-packages/thrift_connector/hooks.py:43\u001b[0m, in \u001b[0;36mapi_call_context.<locals>.deco.<locals>.wrapper\u001b[0;34m(*args, **kwargs)\u001b[0m\n\u001b[1;32m     41\u001b[0m ret \u001b[38;5;241m=\u001b[39m \u001b[38;5;28;01mNone\u001b[39;00m\n\u001b[1;32m     42\u001b[0m \u001b[38;5;28;01mtry\u001b[39;00m:\n\u001b[0;32m---> 43\u001b[0m     ret \u001b[38;5;241m=\u001b[39m \u001b[43mfunc\u001b[49m\u001b[43m(\u001b[49m\u001b[38;5;241;43m*\u001b[39;49m\u001b[43margs\u001b[49m\u001b[43m,\u001b[49m\u001b[43m \u001b[49m\u001b[38;5;241;43m*\u001b[39;49m\u001b[38;5;241;43m*\u001b[39;49m\u001b[43mkwargs\u001b[49m\u001b[43m)\u001b[49m\n\u001b[1;32m     44\u001b[0m     \u001b[38;5;28;01mreturn\u001b[39;00m ret\n\u001b[1;32m     45\u001b[0m \u001b[38;5;28;01mexcept\u001b[39;00m \u001b[38;5;167;01mException\u001b[39;00m \u001b[38;5;28;01mas\u001b[39;00m e:\n",
      "File \u001b[0;32m~/.mamba/envs/cybershuttle-exp/lib/python3.12/site-packages/airavata/api/Airavata.py:6097\u001b[0m, in \u001b[0;36mClient.getExperimentStatus\u001b[0;34m(self, authzToken, airavataExperimentId)\u001b[0m\n\u001b[1;32m   6075\u001b[0m \u001b[38;5;250m\u001b[39m\u001b[38;5;124;03m\"\"\"\u001b[39;00m\n\u001b[1;32m   6076\u001b[0m \n\u001b[1;32m   6077\u001b[0m \u001b[38;5;124;03mGet Experiment Status\u001b[39;00m\n\u001b[0;32m   (...)\u001b[0m\n\u001b[1;32m   6094\u001b[0m \n\u001b[1;32m   6095\u001b[0m \u001b[38;5;124;03m\"\"\"\u001b[39;00m\n\u001b[1;32m   6096\u001b[0m \u001b[38;5;28mself\u001b[39m\u001b[38;5;241m.\u001b[39msend_getExperimentStatus(authzToken, airavataExperimentId)\n\u001b[0;32m-> 6097\u001b[0m \u001b[38;5;28;01mreturn\u001b[39;00m \u001b[38;5;28;43mself\u001b[39;49m\u001b[38;5;241;43m.\u001b[39;49m\u001b[43mrecv_getExperimentStatus\u001b[49m\u001b[43m(\u001b[49m\u001b[43m)\u001b[49m\n",
      "File \u001b[0;32m~/.mamba/envs/cybershuttle-exp/lib/python3.12/site-packages/airavata/api/Airavata.py:6110\u001b[0m, in \u001b[0;36mClient.recv_getExperimentStatus\u001b[0;34m(self)\u001b[0m\n\u001b[1;32m   6108\u001b[0m \u001b[38;5;28;01mdef\u001b[39;00m \u001b[38;5;21mrecv_getExperimentStatus\u001b[39m(\u001b[38;5;28mself\u001b[39m):\n\u001b[1;32m   6109\u001b[0m     iprot \u001b[38;5;241m=\u001b[39m \u001b[38;5;28mself\u001b[39m\u001b[38;5;241m.\u001b[39m_iprot\n\u001b[0;32m-> 6110\u001b[0m     (fname, mtype, rseqid) \u001b[38;5;241m=\u001b[39m \u001b[43miprot\u001b[49m\u001b[38;5;241;43m.\u001b[39;49m\u001b[43mreadMessageBegin\u001b[49m\u001b[43m(\u001b[49m\u001b[43m)\u001b[49m\n\u001b[1;32m   6111\u001b[0m     \u001b[38;5;28;01mif\u001b[39;00m mtype \u001b[38;5;241m==\u001b[39m TMessageType\u001b[38;5;241m.\u001b[39mEXCEPTION:\n\u001b[1;32m   6112\u001b[0m         x \u001b[38;5;241m=\u001b[39m TApplicationException()\n",
      "File \u001b[0;32m~/.mamba/envs/cybershuttle-exp/lib/python3.12/site-packages/thrift/protocol/TBinaryProtocol.py:134\u001b[0m, in \u001b[0;36mTBinaryProtocol.readMessageBegin\u001b[0;34m(self)\u001b[0m\n\u001b[1;32m    133\u001b[0m \u001b[38;5;28;01mdef\u001b[39;00m \u001b[38;5;21mreadMessageBegin\u001b[39m(\u001b[38;5;28mself\u001b[39m):\n\u001b[0;32m--> 134\u001b[0m     sz \u001b[38;5;241m=\u001b[39m \u001b[38;5;28;43mself\u001b[39;49m\u001b[38;5;241;43m.\u001b[39;49m\u001b[43mreadI32\u001b[49m\u001b[43m(\u001b[49m\u001b[43m)\u001b[49m\n\u001b[1;32m    135\u001b[0m     \u001b[38;5;28;01mif\u001b[39;00m sz \u001b[38;5;241m<\u001b[39m \u001b[38;5;241m0\u001b[39m:\n\u001b[1;32m    136\u001b[0m         version \u001b[38;5;241m=\u001b[39m sz \u001b[38;5;241m&\u001b[39m TBinaryProtocol\u001b[38;5;241m.\u001b[39mVERSION_MASK\n",
      "File \u001b[0;32m~/.mamba/envs/cybershuttle-exp/lib/python3.12/site-packages/thrift/protocol/TBinaryProtocol.py:217\u001b[0m, in \u001b[0;36mTBinaryProtocol.readI32\u001b[0;34m(self)\u001b[0m\n\u001b[1;32m    216\u001b[0m \u001b[38;5;28;01mdef\u001b[39;00m \u001b[38;5;21mreadI32\u001b[39m(\u001b[38;5;28mself\u001b[39m):\n\u001b[0;32m--> 217\u001b[0m     buff \u001b[38;5;241m=\u001b[39m \u001b[38;5;28;43mself\u001b[39;49m\u001b[38;5;241;43m.\u001b[39;49m\u001b[43mtrans\u001b[49m\u001b[38;5;241;43m.\u001b[39;49m\u001b[43mreadAll\u001b[49m\u001b[43m(\u001b[49m\u001b[38;5;241;43m4\u001b[39;49m\u001b[43m)\u001b[49m\n\u001b[1;32m    218\u001b[0m     val, \u001b[38;5;241m=\u001b[39m unpack(\u001b[38;5;124m'\u001b[39m\u001b[38;5;124m!i\u001b[39m\u001b[38;5;124m'\u001b[39m, buff)\n\u001b[1;32m    219\u001b[0m     \u001b[38;5;28;01mreturn\u001b[39;00m val\n",
      "File \u001b[0;32m~/.mamba/envs/cybershuttle-exp/lib/python3.12/site-packages/thrift/transport/TTransport.py:62\u001b[0m, in \u001b[0;36mTTransportBase.readAll\u001b[0;34m(self, sz)\u001b[0m\n\u001b[1;32m     60\u001b[0m have \u001b[38;5;241m=\u001b[39m \u001b[38;5;241m0\u001b[39m\n\u001b[1;32m     61\u001b[0m \u001b[38;5;28;01mwhile\u001b[39;00m (have \u001b[38;5;241m<\u001b[39m sz):\n\u001b[0;32m---> 62\u001b[0m     chunk \u001b[38;5;241m=\u001b[39m \u001b[38;5;28;43mself\u001b[39;49m\u001b[38;5;241;43m.\u001b[39;49m\u001b[43mread\u001b[49m\u001b[43m(\u001b[49m\u001b[43msz\u001b[49m\u001b[43m \u001b[49m\u001b[38;5;241;43m-\u001b[39;49m\u001b[43m \u001b[49m\u001b[43mhave\u001b[49m\u001b[43m)\u001b[49m\n\u001b[1;32m     63\u001b[0m     chunkLen \u001b[38;5;241m=\u001b[39m \u001b[38;5;28mlen\u001b[39m(chunk)\n\u001b[1;32m     64\u001b[0m     have \u001b[38;5;241m+\u001b[39m\u001b[38;5;241m=\u001b[39m chunkLen\n",
      "File \u001b[0;32m~/.mamba/envs/cybershuttle-exp/lib/python3.12/site-packages/thrift/transport/TTransport.py:164\u001b[0m, in \u001b[0;36mTBufferedTransport.read\u001b[0;34m(self, sz)\u001b[0m\n\u001b[1;32m    162\u001b[0m \u001b[38;5;28;01mif\u001b[39;00m \u001b[38;5;28mlen\u001b[39m(ret) \u001b[38;5;241m!=\u001b[39m \u001b[38;5;241m0\u001b[39m:\n\u001b[1;32m    163\u001b[0m     \u001b[38;5;28;01mreturn\u001b[39;00m ret\n\u001b[0;32m--> 164\u001b[0m \u001b[38;5;28mself\u001b[39m\u001b[38;5;241m.\u001b[39m__rbuf \u001b[38;5;241m=\u001b[39m BufferIO(\u001b[38;5;28;43mself\u001b[39;49m\u001b[38;5;241;43m.\u001b[39;49m\u001b[43m__trans\u001b[49m\u001b[38;5;241;43m.\u001b[39;49m\u001b[43mread\u001b[49m\u001b[43m(\u001b[49m\u001b[38;5;28;43mmax\u001b[39;49m\u001b[43m(\u001b[49m\u001b[43msz\u001b[49m\u001b[43m,\u001b[49m\u001b[43m \u001b[49m\u001b[38;5;28;43mself\u001b[39;49m\u001b[38;5;241;43m.\u001b[39;49m\u001b[43m__rbuf_size\u001b[49m\u001b[43m)\u001b[49m\u001b[43m)\u001b[49m)\n\u001b[1;32m    165\u001b[0m \u001b[38;5;28;01mreturn\u001b[39;00m \u001b[38;5;28mself\u001b[39m\u001b[38;5;241m.\u001b[39m__rbuf\u001b[38;5;241m.\u001b[39mread(sz)\n",
      "File \u001b[0;32m~/.mamba/envs/cybershuttle-exp/lib/python3.12/site-packages/thrift/transport/TSocket.py:166\u001b[0m, in \u001b[0;36mTSocket.read\u001b[0;34m(self, sz)\u001b[0m\n\u001b[1;32m    164\u001b[0m         \u001b[38;5;28;01mraise\u001b[39;00m TTransportException(message\u001b[38;5;241m=\u001b[39m\u001b[38;5;124m\"\u001b[39m\u001b[38;5;124munexpected exception\u001b[39m\u001b[38;5;124m\"\u001b[39m, inner\u001b[38;5;241m=\u001b[39me)\n\u001b[1;32m    165\u001b[0m \u001b[38;5;28;01mif\u001b[39;00m \u001b[38;5;28mlen\u001b[39m(buff) \u001b[38;5;241m==\u001b[39m \u001b[38;5;241m0\u001b[39m:\n\u001b[0;32m--> 166\u001b[0m     \u001b[38;5;28;01mraise\u001b[39;00m TTransportException(\u001b[38;5;28mtype\u001b[39m\u001b[38;5;241m=\u001b[39mTTransportException\u001b[38;5;241m.\u001b[39mEND_OF_FILE,\n\u001b[1;32m    167\u001b[0m                               message\u001b[38;5;241m=\u001b[39m\u001b[38;5;124m'\u001b[39m\u001b[38;5;124mTSocket read 0 bytes\u001b[39m\u001b[38;5;124m'\u001b[39m)\n\u001b[1;32m    168\u001b[0m \u001b[38;5;28;01mreturn\u001b[39;00m buff\n",
      "\u001b[0;31mTTransportException\u001b[0m: TSocket read 0 bytes"
     ]
    }
   ],
   "source": [
    "plan.join()"
   ]
  },
  {
   "cell_type": "markdown",
   "metadata": {},
   "source": [
    "## Option B - Terminate Execution"
   ]
  },
  {
   "cell_type": "code",
   "execution_count": null,
   "metadata": {},
   "outputs": [],
   "source": [
    "plan.stop()"
   ]
  },
  {
   "cell_type": "markdown",
   "metadata": {},
   "source": [
    "## Option C - Monitor Files During Execution"
   ]
  },
  {
   "cell_type": "markdown",
   "metadata": {},
   "source": [
    "Displaying the status and files generated by each replica (task)"
   ]
  },
  {
   "cell_type": "code",
   "execution_count": null,
   "metadata": {},
   "outputs": [],
   "source": [
    "for task in plan.tasks:\n",
    "    status = task.status()\n",
    "    files = task.files()\n",
    "    print(status, files)"
   ]
  },
  {
   "cell_type": "markdown",
   "metadata": {},
   "source": [
    "Displaying the intermediate results generated by each replica (task)"
   ]
  },
  {
   "cell_type": "code",
   "execution_count": null,
   "metadata": {},
   "outputs": [],
   "source": [
    "from matplotlib import pyplot as plt\n",
    "import pandas as pd\n",
    "\n",
    "for index, task in enumerate(plan.tasks):\n",
    "\n",
    "    @cs.task_context(task)\n",
    "    def visualize():\n",
    "        data = pd.read_csv(\"data.csv\")\n",
    "        plt.figure(figsize=(8, 6))\n",
    "        plt.plot(data[\"x\"], data[\"y\"], marker=\"o\", linestyle=\"-\", linewidth=2, markersize=6)\n",
    "        plt.title(f\"Plot for Replica {index} of {len(plan.tasks)}\")\n",
    "\n",
    "    visualize()"
   ]
  },
  {
   "cell_type": "code",
   "execution_count": null,
   "metadata": {},
   "outputs": [],
   "source": [
    "from cybershuttle.airavata import AiravataOperator\n",
    "\n",
    "assert token is not None\n",
    "\n",
    "av = AiravataOperator(token)\n",
    "\n",
    "# Example: get app interface id and storage resource id\n",
    "app_interface_id = av.get_app_interface_id(\"NAMD\")\n",
    "storage = av.get_storage()\n",
    "storage_resource_id = storage.storageResourceId\n",
    "display(f\"application_interface_id={app_interface_id}\")\n",
    "display(f\"storage_resource_id={storage_resource_id}\")\n",
    "\n",
    "# Example: upload files\n",
    "experiment_name = \"NAMD_MD_SDK\"\n",
    "app_name = \"NAMD\"\n",
    "hpc_name = \"login.expanse.sdsc.edu\"\n",
    "\n",
    "experiment = av.launch_experiment(\n",
    "    experiment_name=experiment_name,\n",
    "    app_name=app_name,\n",
    "    computation_resource_name=hpc_name,\n",
    "    inputs={\n",
    "        \"MD-Instructions-Input\": \"./data/pull.conf\",\n",
    "        \"Constraints-PDB-File\": \"./data/structure.pdb\",\n",
    "        \"Protein-Structure-File_PSF\": \"./data/structure.psf\",\n",
    "        \"FF-Parameter-Files\": [\n",
    "            \"./data/par_all36_water.prm\",\n",
    "            \"./data/par_all36m_prot.prm\"\n",
    "        ],\n",
    "        \"Execution_Type\": \"CPU\",\n",
    "        \"Optional_Inputs\": [\n",
    "            \"./data/b4pull.restart.xsc\",\n",
    "            \"./data/b4pull.restart.vel\",\n",
    "            \"./data/b4pull.pdb\",\n",
    "            \"./data/b4pull.restart.coor\",\n",
    "        ],\n",
    "    }\n",
    ")"
   ]
  }
 ],
 "metadata": {
  "kernelspec": {
   "display_name": "Python 3",
   "language": "python",
   "name": "python3"
  },
  "language_info": {
   "codemirror_mode": {
    "name": "ipython",
    "version": 3
   },
   "file_extension": ".py",
   "mimetype": "text/x-python",
   "name": "python",
   "nbconvert_exporter": "python",
   "pygments_lexer": "ipython3",
   "version": "3.12.7"
  }
 },
 "nbformat": 4,
 "nbformat_minor": 2
}
